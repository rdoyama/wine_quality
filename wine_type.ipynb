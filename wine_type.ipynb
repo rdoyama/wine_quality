{
  "nbformat": 4,
  "nbformat_minor": 0,
  "metadata": {
    "colab": {
      "name": "wine_type.ipynb",
      "provenance": []
    },
    "kernelspec": {
      "name": "python3",
      "display_name": "Python 3"
    },
    "language_info": {
      "name": "python"
    }
  },
  "cells": [
    {
      "cell_type": "code",
      "metadata": {
        "colab": {
          "base_uri": "https://localhost:8080/"
        },
        "id": "8sen402_CsHB",
        "outputId": "035802a0-450c-4dbc-ada8-abc39ab3b4bb"
      },
      "source": [
        "from google.colab import drive\n",
        "drive.mount(\"gdrive\")\n",
        "\n",
        "import pandas as pd\n",
        "import matplotlib.pyplot as plt\n",
        "import seaborn as sns\n",
        "import numpy as np\n",
        "\n",
        "from sklearn.model_selection import train_test_split\n",
        "from sklearn.preprocessing import StandardScaler\n",
        "from sklearn.metrics import confusion_matrix, precision_score, recall_score, f1_score, cohen_kappa_score\n",
        "\n",
        "from keras.models import Sequential\n",
        "from keras.layers import Dense"
      ],
      "execution_count": 42,
      "outputs": [
        {
          "output_type": "stream",
          "text": [
            "Drive already mounted at gdrive; to attempt to forcibly remount, call drive.mount(\"gdrive\", force_remount=True).\n"
          ],
          "name": "stdout"
        }
      ]
    },
    {
      "cell_type": "code",
      "metadata": {
        "id": "3fFQ7z5EDAjz"
      },
      "source": [
        "white = pd.read_csv(\"gdrive/My Drive/Wine Quality/winequality-white.csv\", delimiter=\";\")\n",
        "red = pd.read_csv(\"gdrive/My Drive/Wine Quality/winequality-red.csv\", delimiter=\";\")"
      ],
      "execution_count": 6,
      "outputs": []
    },
    {
      "cell_type": "code",
      "metadata": {
        "colab": {
          "base_uri": "https://localhost:8080/",
          "height": 224
        },
        "id": "bG3kIPIUENMA",
        "outputId": "7a7c291b-1602-4e07-e0c5-ae0a29fcdbca"
      },
      "source": [
        "white.head()"
      ],
      "execution_count": 7,
      "outputs": [
        {
          "output_type": "execute_result",
          "data": {
            "text/html": [
              "<div>\n",
              "<style scoped>\n",
              "    .dataframe tbody tr th:only-of-type {\n",
              "        vertical-align: middle;\n",
              "    }\n",
              "\n",
              "    .dataframe tbody tr th {\n",
              "        vertical-align: top;\n",
              "    }\n",
              "\n",
              "    .dataframe thead th {\n",
              "        text-align: right;\n",
              "    }\n",
              "</style>\n",
              "<table border=\"1\" class=\"dataframe\">\n",
              "  <thead>\n",
              "    <tr style=\"text-align: right;\">\n",
              "      <th></th>\n",
              "      <th>fixed acidity</th>\n",
              "      <th>volatile acidity</th>\n",
              "      <th>citric acid</th>\n",
              "      <th>residual sugar</th>\n",
              "      <th>chlorides</th>\n",
              "      <th>free sulfur dioxide</th>\n",
              "      <th>total sulfur dioxide</th>\n",
              "      <th>density</th>\n",
              "      <th>pH</th>\n",
              "      <th>sulphates</th>\n",
              "      <th>alcohol</th>\n",
              "      <th>quality</th>\n",
              "    </tr>\n",
              "  </thead>\n",
              "  <tbody>\n",
              "    <tr>\n",
              "      <th>0</th>\n",
              "      <td>7.0</td>\n",
              "      <td>0.27</td>\n",
              "      <td>0.36</td>\n",
              "      <td>20.7</td>\n",
              "      <td>0.045</td>\n",
              "      <td>45.0</td>\n",
              "      <td>170.0</td>\n",
              "      <td>1.0010</td>\n",
              "      <td>3.00</td>\n",
              "      <td>0.45</td>\n",
              "      <td>8.8</td>\n",
              "      <td>6</td>\n",
              "    </tr>\n",
              "    <tr>\n",
              "      <th>1</th>\n",
              "      <td>6.3</td>\n",
              "      <td>0.30</td>\n",
              "      <td>0.34</td>\n",
              "      <td>1.6</td>\n",
              "      <td>0.049</td>\n",
              "      <td>14.0</td>\n",
              "      <td>132.0</td>\n",
              "      <td>0.9940</td>\n",
              "      <td>3.30</td>\n",
              "      <td>0.49</td>\n",
              "      <td>9.5</td>\n",
              "      <td>6</td>\n",
              "    </tr>\n",
              "    <tr>\n",
              "      <th>2</th>\n",
              "      <td>8.1</td>\n",
              "      <td>0.28</td>\n",
              "      <td>0.40</td>\n",
              "      <td>6.9</td>\n",
              "      <td>0.050</td>\n",
              "      <td>30.0</td>\n",
              "      <td>97.0</td>\n",
              "      <td>0.9951</td>\n",
              "      <td>3.26</td>\n",
              "      <td>0.44</td>\n",
              "      <td>10.1</td>\n",
              "      <td>6</td>\n",
              "    </tr>\n",
              "    <tr>\n",
              "      <th>3</th>\n",
              "      <td>7.2</td>\n",
              "      <td>0.23</td>\n",
              "      <td>0.32</td>\n",
              "      <td>8.5</td>\n",
              "      <td>0.058</td>\n",
              "      <td>47.0</td>\n",
              "      <td>186.0</td>\n",
              "      <td>0.9956</td>\n",
              "      <td>3.19</td>\n",
              "      <td>0.40</td>\n",
              "      <td>9.9</td>\n",
              "      <td>6</td>\n",
              "    </tr>\n",
              "    <tr>\n",
              "      <th>4</th>\n",
              "      <td>7.2</td>\n",
              "      <td>0.23</td>\n",
              "      <td>0.32</td>\n",
              "      <td>8.5</td>\n",
              "      <td>0.058</td>\n",
              "      <td>47.0</td>\n",
              "      <td>186.0</td>\n",
              "      <td>0.9956</td>\n",
              "      <td>3.19</td>\n",
              "      <td>0.40</td>\n",
              "      <td>9.9</td>\n",
              "      <td>6</td>\n",
              "    </tr>\n",
              "  </tbody>\n",
              "</table>\n",
              "</div>"
            ],
            "text/plain": [
              "   fixed acidity  volatile acidity  citric acid  ...  sulphates  alcohol  quality\n",
              "0            7.0              0.27         0.36  ...       0.45      8.8        6\n",
              "1            6.3              0.30         0.34  ...       0.49      9.5        6\n",
              "2            8.1              0.28         0.40  ...       0.44     10.1        6\n",
              "3            7.2              0.23         0.32  ...       0.40      9.9        6\n",
              "4            7.2              0.23         0.32  ...       0.40      9.9        6\n",
              "\n",
              "[5 rows x 12 columns]"
            ]
          },
          "metadata": {
            "tags": []
          },
          "execution_count": 7
        }
      ]
    },
    {
      "cell_type": "code",
      "metadata": {
        "colab": {
          "base_uri": "https://localhost:8080/",
          "height": 224
        },
        "id": "3bb4Ev2kEXNv",
        "outputId": "49504447-5db3-430d-d9c2-d87463071543"
      },
      "source": [
        "red.head()"
      ],
      "execution_count": 8,
      "outputs": [
        {
          "output_type": "execute_result",
          "data": {
            "text/html": [
              "<div>\n",
              "<style scoped>\n",
              "    .dataframe tbody tr th:only-of-type {\n",
              "        vertical-align: middle;\n",
              "    }\n",
              "\n",
              "    .dataframe tbody tr th {\n",
              "        vertical-align: top;\n",
              "    }\n",
              "\n",
              "    .dataframe thead th {\n",
              "        text-align: right;\n",
              "    }\n",
              "</style>\n",
              "<table border=\"1\" class=\"dataframe\">\n",
              "  <thead>\n",
              "    <tr style=\"text-align: right;\">\n",
              "      <th></th>\n",
              "      <th>fixed acidity</th>\n",
              "      <th>volatile acidity</th>\n",
              "      <th>citric acid</th>\n",
              "      <th>residual sugar</th>\n",
              "      <th>chlorides</th>\n",
              "      <th>free sulfur dioxide</th>\n",
              "      <th>total sulfur dioxide</th>\n",
              "      <th>density</th>\n",
              "      <th>pH</th>\n",
              "      <th>sulphates</th>\n",
              "      <th>alcohol</th>\n",
              "      <th>quality</th>\n",
              "    </tr>\n",
              "  </thead>\n",
              "  <tbody>\n",
              "    <tr>\n",
              "      <th>0</th>\n",
              "      <td>7.4</td>\n",
              "      <td>0.70</td>\n",
              "      <td>0.00</td>\n",
              "      <td>1.9</td>\n",
              "      <td>0.076</td>\n",
              "      <td>11.0</td>\n",
              "      <td>34.0</td>\n",
              "      <td>0.9978</td>\n",
              "      <td>3.51</td>\n",
              "      <td>0.56</td>\n",
              "      <td>9.4</td>\n",
              "      <td>5</td>\n",
              "    </tr>\n",
              "    <tr>\n",
              "      <th>1</th>\n",
              "      <td>7.8</td>\n",
              "      <td>0.88</td>\n",
              "      <td>0.00</td>\n",
              "      <td>2.6</td>\n",
              "      <td>0.098</td>\n",
              "      <td>25.0</td>\n",
              "      <td>67.0</td>\n",
              "      <td>0.9968</td>\n",
              "      <td>3.20</td>\n",
              "      <td>0.68</td>\n",
              "      <td>9.8</td>\n",
              "      <td>5</td>\n",
              "    </tr>\n",
              "    <tr>\n",
              "      <th>2</th>\n",
              "      <td>7.8</td>\n",
              "      <td>0.76</td>\n",
              "      <td>0.04</td>\n",
              "      <td>2.3</td>\n",
              "      <td>0.092</td>\n",
              "      <td>15.0</td>\n",
              "      <td>54.0</td>\n",
              "      <td>0.9970</td>\n",
              "      <td>3.26</td>\n",
              "      <td>0.65</td>\n",
              "      <td>9.8</td>\n",
              "      <td>5</td>\n",
              "    </tr>\n",
              "    <tr>\n",
              "      <th>3</th>\n",
              "      <td>11.2</td>\n",
              "      <td>0.28</td>\n",
              "      <td>0.56</td>\n",
              "      <td>1.9</td>\n",
              "      <td>0.075</td>\n",
              "      <td>17.0</td>\n",
              "      <td>60.0</td>\n",
              "      <td>0.9980</td>\n",
              "      <td>3.16</td>\n",
              "      <td>0.58</td>\n",
              "      <td>9.8</td>\n",
              "      <td>6</td>\n",
              "    </tr>\n",
              "    <tr>\n",
              "      <th>4</th>\n",
              "      <td>7.4</td>\n",
              "      <td>0.70</td>\n",
              "      <td>0.00</td>\n",
              "      <td>1.9</td>\n",
              "      <td>0.076</td>\n",
              "      <td>11.0</td>\n",
              "      <td>34.0</td>\n",
              "      <td>0.9978</td>\n",
              "      <td>3.51</td>\n",
              "      <td>0.56</td>\n",
              "      <td>9.4</td>\n",
              "      <td>5</td>\n",
              "    </tr>\n",
              "  </tbody>\n",
              "</table>\n",
              "</div>"
            ],
            "text/plain": [
              "   fixed acidity  volatile acidity  citric acid  ...  sulphates  alcohol  quality\n",
              "0            7.4              0.70         0.00  ...       0.56      9.4        5\n",
              "1            7.8              0.88         0.00  ...       0.68      9.8        5\n",
              "2            7.8              0.76         0.04  ...       0.65      9.8        5\n",
              "3           11.2              0.28         0.56  ...       0.58      9.8        6\n",
              "4            7.4              0.70         0.00  ...       0.56      9.4        5\n",
              "\n",
              "[5 rows x 12 columns]"
            ]
          },
          "metadata": {
            "tags": []
          },
          "execution_count": 8
        }
      ]
    },
    {
      "cell_type": "code",
      "metadata": {
        "colab": {
          "base_uri": "https://localhost:8080/"
        },
        "id": "VU_tiptqEZ10",
        "outputId": "98ece7fc-3d34-415a-fc35-8797f082dd15"
      },
      "source": [
        "white.info()"
      ],
      "execution_count": 9,
      "outputs": [
        {
          "output_type": "stream",
          "text": [
            "<class 'pandas.core.frame.DataFrame'>\n",
            "RangeIndex: 4898 entries, 0 to 4897\n",
            "Data columns (total 12 columns):\n",
            " #   Column                Non-Null Count  Dtype  \n",
            "---  ------                --------------  -----  \n",
            " 0   fixed acidity         4898 non-null   float64\n",
            " 1   volatile acidity      4898 non-null   float64\n",
            " 2   citric acid           4898 non-null   float64\n",
            " 3   residual sugar        4898 non-null   float64\n",
            " 4   chlorides             4898 non-null   float64\n",
            " 5   free sulfur dioxide   4898 non-null   float64\n",
            " 6   total sulfur dioxide  4898 non-null   float64\n",
            " 7   density               4898 non-null   float64\n",
            " 8   pH                    4898 non-null   float64\n",
            " 9   sulphates             4898 non-null   float64\n",
            " 10  alcohol               4898 non-null   float64\n",
            " 11  quality               4898 non-null   int64  \n",
            "dtypes: float64(11), int64(1)\n",
            "memory usage: 459.3 KB\n"
          ],
          "name": "stdout"
        }
      ]
    },
    {
      "cell_type": "code",
      "metadata": {
        "colab": {
          "base_uri": "https://localhost:8080/"
        },
        "id": "PekStGWfEqZO",
        "outputId": "b2761d21-1a7c-46d7-ed1b-9229c1135f0d"
      },
      "source": [
        "red.info()"
      ],
      "execution_count": 10,
      "outputs": [
        {
          "output_type": "stream",
          "text": [
            "<class 'pandas.core.frame.DataFrame'>\n",
            "RangeIndex: 1599 entries, 0 to 1598\n",
            "Data columns (total 12 columns):\n",
            " #   Column                Non-Null Count  Dtype  \n",
            "---  ------                --------------  -----  \n",
            " 0   fixed acidity         1599 non-null   float64\n",
            " 1   volatile acidity      1599 non-null   float64\n",
            " 2   citric acid           1599 non-null   float64\n",
            " 3   residual sugar        1599 non-null   float64\n",
            " 4   chlorides             1599 non-null   float64\n",
            " 5   free sulfur dioxide   1599 non-null   float64\n",
            " 6   total sulfur dioxide  1599 non-null   float64\n",
            " 7   density               1599 non-null   float64\n",
            " 8   pH                    1599 non-null   float64\n",
            " 9   sulphates             1599 non-null   float64\n",
            " 10  alcohol               1599 non-null   float64\n",
            " 11  quality               1599 non-null   int64  \n",
            "dtypes: float64(11), int64(1)\n",
            "memory usage: 150.0 KB\n"
          ],
          "name": "stdout"
        }
      ]
    },
    {
      "cell_type": "code",
      "metadata": {
        "colab": {
          "base_uri": "https://localhost:8080/",
          "height": 355
        },
        "id": "oRlxh8-LErN7",
        "outputId": "79e8ff66-dec8-4926-9515-76fd1ad9f480"
      },
      "source": [
        "white.describe()"
      ],
      "execution_count": 11,
      "outputs": [
        {
          "output_type": "execute_result",
          "data": {
            "text/html": [
              "<div>\n",
              "<style scoped>\n",
              "    .dataframe tbody tr th:only-of-type {\n",
              "        vertical-align: middle;\n",
              "    }\n",
              "\n",
              "    .dataframe tbody tr th {\n",
              "        vertical-align: top;\n",
              "    }\n",
              "\n",
              "    .dataframe thead th {\n",
              "        text-align: right;\n",
              "    }\n",
              "</style>\n",
              "<table border=\"1\" class=\"dataframe\">\n",
              "  <thead>\n",
              "    <tr style=\"text-align: right;\">\n",
              "      <th></th>\n",
              "      <th>fixed acidity</th>\n",
              "      <th>volatile acidity</th>\n",
              "      <th>citric acid</th>\n",
              "      <th>residual sugar</th>\n",
              "      <th>chlorides</th>\n",
              "      <th>free sulfur dioxide</th>\n",
              "      <th>total sulfur dioxide</th>\n",
              "      <th>density</th>\n",
              "      <th>pH</th>\n",
              "      <th>sulphates</th>\n",
              "      <th>alcohol</th>\n",
              "      <th>quality</th>\n",
              "    </tr>\n",
              "  </thead>\n",
              "  <tbody>\n",
              "    <tr>\n",
              "      <th>count</th>\n",
              "      <td>4898.000000</td>\n",
              "      <td>4898.000000</td>\n",
              "      <td>4898.000000</td>\n",
              "      <td>4898.000000</td>\n",
              "      <td>4898.000000</td>\n",
              "      <td>4898.000000</td>\n",
              "      <td>4898.000000</td>\n",
              "      <td>4898.000000</td>\n",
              "      <td>4898.000000</td>\n",
              "      <td>4898.000000</td>\n",
              "      <td>4898.000000</td>\n",
              "      <td>4898.000000</td>\n",
              "    </tr>\n",
              "    <tr>\n",
              "      <th>mean</th>\n",
              "      <td>6.854788</td>\n",
              "      <td>0.278241</td>\n",
              "      <td>0.334192</td>\n",
              "      <td>6.391415</td>\n",
              "      <td>0.045772</td>\n",
              "      <td>35.308085</td>\n",
              "      <td>138.360657</td>\n",
              "      <td>0.994027</td>\n",
              "      <td>3.188267</td>\n",
              "      <td>0.489847</td>\n",
              "      <td>10.514267</td>\n",
              "      <td>5.877909</td>\n",
              "    </tr>\n",
              "    <tr>\n",
              "      <th>std</th>\n",
              "      <td>0.843868</td>\n",
              "      <td>0.100795</td>\n",
              "      <td>0.121020</td>\n",
              "      <td>5.072058</td>\n",
              "      <td>0.021848</td>\n",
              "      <td>17.007137</td>\n",
              "      <td>42.498065</td>\n",
              "      <td>0.002991</td>\n",
              "      <td>0.151001</td>\n",
              "      <td>0.114126</td>\n",
              "      <td>1.230621</td>\n",
              "      <td>0.885639</td>\n",
              "    </tr>\n",
              "    <tr>\n",
              "      <th>min</th>\n",
              "      <td>3.800000</td>\n",
              "      <td>0.080000</td>\n",
              "      <td>0.000000</td>\n",
              "      <td>0.600000</td>\n",
              "      <td>0.009000</td>\n",
              "      <td>2.000000</td>\n",
              "      <td>9.000000</td>\n",
              "      <td>0.987110</td>\n",
              "      <td>2.720000</td>\n",
              "      <td>0.220000</td>\n",
              "      <td>8.000000</td>\n",
              "      <td>3.000000</td>\n",
              "    </tr>\n",
              "    <tr>\n",
              "      <th>25%</th>\n",
              "      <td>6.300000</td>\n",
              "      <td>0.210000</td>\n",
              "      <td>0.270000</td>\n",
              "      <td>1.700000</td>\n",
              "      <td>0.036000</td>\n",
              "      <td>23.000000</td>\n",
              "      <td>108.000000</td>\n",
              "      <td>0.991723</td>\n",
              "      <td>3.090000</td>\n",
              "      <td>0.410000</td>\n",
              "      <td>9.500000</td>\n",
              "      <td>5.000000</td>\n",
              "    </tr>\n",
              "    <tr>\n",
              "      <th>50%</th>\n",
              "      <td>6.800000</td>\n",
              "      <td>0.260000</td>\n",
              "      <td>0.320000</td>\n",
              "      <td>5.200000</td>\n",
              "      <td>0.043000</td>\n",
              "      <td>34.000000</td>\n",
              "      <td>134.000000</td>\n",
              "      <td>0.993740</td>\n",
              "      <td>3.180000</td>\n",
              "      <td>0.470000</td>\n",
              "      <td>10.400000</td>\n",
              "      <td>6.000000</td>\n",
              "    </tr>\n",
              "    <tr>\n",
              "      <th>75%</th>\n",
              "      <td>7.300000</td>\n",
              "      <td>0.320000</td>\n",
              "      <td>0.390000</td>\n",
              "      <td>9.900000</td>\n",
              "      <td>0.050000</td>\n",
              "      <td>46.000000</td>\n",
              "      <td>167.000000</td>\n",
              "      <td>0.996100</td>\n",
              "      <td>3.280000</td>\n",
              "      <td>0.550000</td>\n",
              "      <td>11.400000</td>\n",
              "      <td>6.000000</td>\n",
              "    </tr>\n",
              "    <tr>\n",
              "      <th>max</th>\n",
              "      <td>14.200000</td>\n",
              "      <td>1.100000</td>\n",
              "      <td>1.660000</td>\n",
              "      <td>65.800000</td>\n",
              "      <td>0.346000</td>\n",
              "      <td>289.000000</td>\n",
              "      <td>440.000000</td>\n",
              "      <td>1.038980</td>\n",
              "      <td>3.820000</td>\n",
              "      <td>1.080000</td>\n",
              "      <td>14.200000</td>\n",
              "      <td>9.000000</td>\n",
              "    </tr>\n",
              "  </tbody>\n",
              "</table>\n",
              "</div>"
            ],
            "text/plain": [
              "       fixed acidity  volatile acidity  ...      alcohol      quality\n",
              "count    4898.000000       4898.000000  ...  4898.000000  4898.000000\n",
              "mean        6.854788          0.278241  ...    10.514267     5.877909\n",
              "std         0.843868          0.100795  ...     1.230621     0.885639\n",
              "min         3.800000          0.080000  ...     8.000000     3.000000\n",
              "25%         6.300000          0.210000  ...     9.500000     5.000000\n",
              "50%         6.800000          0.260000  ...    10.400000     6.000000\n",
              "75%         7.300000          0.320000  ...    11.400000     6.000000\n",
              "max        14.200000          1.100000  ...    14.200000     9.000000\n",
              "\n",
              "[8 rows x 12 columns]"
            ]
          },
          "metadata": {
            "tags": []
          },
          "execution_count": 11
        }
      ]
    },
    {
      "cell_type": "code",
      "metadata": {
        "colab": {
          "base_uri": "https://localhost:8080/",
          "height": 192
        },
        "id": "zon1-v5jEwcq",
        "outputId": "126b9555-5f3f-4a13-ac1f-d54798f92fe1"
      },
      "source": [
        "white.isnull().describe()"
      ],
      "execution_count": 12,
      "outputs": [
        {
          "output_type": "execute_result",
          "data": {
            "text/html": [
              "<div>\n",
              "<style scoped>\n",
              "    .dataframe tbody tr th:only-of-type {\n",
              "        vertical-align: middle;\n",
              "    }\n",
              "\n",
              "    .dataframe tbody tr th {\n",
              "        vertical-align: top;\n",
              "    }\n",
              "\n",
              "    .dataframe thead th {\n",
              "        text-align: right;\n",
              "    }\n",
              "</style>\n",
              "<table border=\"1\" class=\"dataframe\">\n",
              "  <thead>\n",
              "    <tr style=\"text-align: right;\">\n",
              "      <th></th>\n",
              "      <th>fixed acidity</th>\n",
              "      <th>volatile acidity</th>\n",
              "      <th>citric acid</th>\n",
              "      <th>residual sugar</th>\n",
              "      <th>chlorides</th>\n",
              "      <th>free sulfur dioxide</th>\n",
              "      <th>total sulfur dioxide</th>\n",
              "      <th>density</th>\n",
              "      <th>pH</th>\n",
              "      <th>sulphates</th>\n",
              "      <th>alcohol</th>\n",
              "      <th>quality</th>\n",
              "    </tr>\n",
              "  </thead>\n",
              "  <tbody>\n",
              "    <tr>\n",
              "      <th>count</th>\n",
              "      <td>4898</td>\n",
              "      <td>4898</td>\n",
              "      <td>4898</td>\n",
              "      <td>4898</td>\n",
              "      <td>4898</td>\n",
              "      <td>4898</td>\n",
              "      <td>4898</td>\n",
              "      <td>4898</td>\n",
              "      <td>4898</td>\n",
              "      <td>4898</td>\n",
              "      <td>4898</td>\n",
              "      <td>4898</td>\n",
              "    </tr>\n",
              "    <tr>\n",
              "      <th>unique</th>\n",
              "      <td>1</td>\n",
              "      <td>1</td>\n",
              "      <td>1</td>\n",
              "      <td>1</td>\n",
              "      <td>1</td>\n",
              "      <td>1</td>\n",
              "      <td>1</td>\n",
              "      <td>1</td>\n",
              "      <td>1</td>\n",
              "      <td>1</td>\n",
              "      <td>1</td>\n",
              "      <td>1</td>\n",
              "    </tr>\n",
              "    <tr>\n",
              "      <th>top</th>\n",
              "      <td>False</td>\n",
              "      <td>False</td>\n",
              "      <td>False</td>\n",
              "      <td>False</td>\n",
              "      <td>False</td>\n",
              "      <td>False</td>\n",
              "      <td>False</td>\n",
              "      <td>False</td>\n",
              "      <td>False</td>\n",
              "      <td>False</td>\n",
              "      <td>False</td>\n",
              "      <td>False</td>\n",
              "    </tr>\n",
              "    <tr>\n",
              "      <th>freq</th>\n",
              "      <td>4898</td>\n",
              "      <td>4898</td>\n",
              "      <td>4898</td>\n",
              "      <td>4898</td>\n",
              "      <td>4898</td>\n",
              "      <td>4898</td>\n",
              "      <td>4898</td>\n",
              "      <td>4898</td>\n",
              "      <td>4898</td>\n",
              "      <td>4898</td>\n",
              "      <td>4898</td>\n",
              "      <td>4898</td>\n",
              "    </tr>\n",
              "  </tbody>\n",
              "</table>\n",
              "</div>"
            ],
            "text/plain": [
              "       fixed acidity volatile acidity citric acid  ... sulphates alcohol quality\n",
              "count           4898             4898        4898  ...      4898    4898    4898\n",
              "unique             1                1           1  ...         1       1       1\n",
              "top            False            False       False  ...     False   False   False\n",
              "freq            4898             4898        4898  ...      4898    4898    4898\n",
              "\n",
              "[4 rows x 12 columns]"
            ]
          },
          "metadata": {
            "tags": []
          },
          "execution_count": 12
        }
      ]
    },
    {
      "cell_type": "code",
      "metadata": {
        "colab": {
          "base_uri": "https://localhost:8080/",
          "height": 355
        },
        "id": "g3Kbxr8CFUvc",
        "outputId": "0509763c-5234-47b4-eace-aad0e3e85192"
      },
      "source": [
        "red.describe()"
      ],
      "execution_count": 13,
      "outputs": [
        {
          "output_type": "execute_result",
          "data": {
            "text/html": [
              "<div>\n",
              "<style scoped>\n",
              "    .dataframe tbody tr th:only-of-type {\n",
              "        vertical-align: middle;\n",
              "    }\n",
              "\n",
              "    .dataframe tbody tr th {\n",
              "        vertical-align: top;\n",
              "    }\n",
              "\n",
              "    .dataframe thead th {\n",
              "        text-align: right;\n",
              "    }\n",
              "</style>\n",
              "<table border=\"1\" class=\"dataframe\">\n",
              "  <thead>\n",
              "    <tr style=\"text-align: right;\">\n",
              "      <th></th>\n",
              "      <th>fixed acidity</th>\n",
              "      <th>volatile acidity</th>\n",
              "      <th>citric acid</th>\n",
              "      <th>residual sugar</th>\n",
              "      <th>chlorides</th>\n",
              "      <th>free sulfur dioxide</th>\n",
              "      <th>total sulfur dioxide</th>\n",
              "      <th>density</th>\n",
              "      <th>pH</th>\n",
              "      <th>sulphates</th>\n",
              "      <th>alcohol</th>\n",
              "      <th>quality</th>\n",
              "    </tr>\n",
              "  </thead>\n",
              "  <tbody>\n",
              "    <tr>\n",
              "      <th>count</th>\n",
              "      <td>1599.000000</td>\n",
              "      <td>1599.000000</td>\n",
              "      <td>1599.000000</td>\n",
              "      <td>1599.000000</td>\n",
              "      <td>1599.000000</td>\n",
              "      <td>1599.000000</td>\n",
              "      <td>1599.000000</td>\n",
              "      <td>1599.000000</td>\n",
              "      <td>1599.000000</td>\n",
              "      <td>1599.000000</td>\n",
              "      <td>1599.000000</td>\n",
              "      <td>1599.000000</td>\n",
              "    </tr>\n",
              "    <tr>\n",
              "      <th>mean</th>\n",
              "      <td>8.319637</td>\n",
              "      <td>0.527821</td>\n",
              "      <td>0.270976</td>\n",
              "      <td>2.538806</td>\n",
              "      <td>0.087467</td>\n",
              "      <td>15.874922</td>\n",
              "      <td>46.467792</td>\n",
              "      <td>0.996747</td>\n",
              "      <td>3.311113</td>\n",
              "      <td>0.658149</td>\n",
              "      <td>10.422983</td>\n",
              "      <td>5.636023</td>\n",
              "    </tr>\n",
              "    <tr>\n",
              "      <th>std</th>\n",
              "      <td>1.741096</td>\n",
              "      <td>0.179060</td>\n",
              "      <td>0.194801</td>\n",
              "      <td>1.409928</td>\n",
              "      <td>0.047065</td>\n",
              "      <td>10.460157</td>\n",
              "      <td>32.895324</td>\n",
              "      <td>0.001887</td>\n",
              "      <td>0.154386</td>\n",
              "      <td>0.169507</td>\n",
              "      <td>1.065668</td>\n",
              "      <td>0.807569</td>\n",
              "    </tr>\n",
              "    <tr>\n",
              "      <th>min</th>\n",
              "      <td>4.600000</td>\n",
              "      <td>0.120000</td>\n",
              "      <td>0.000000</td>\n",
              "      <td>0.900000</td>\n",
              "      <td>0.012000</td>\n",
              "      <td>1.000000</td>\n",
              "      <td>6.000000</td>\n",
              "      <td>0.990070</td>\n",
              "      <td>2.740000</td>\n",
              "      <td>0.330000</td>\n",
              "      <td>8.400000</td>\n",
              "      <td>3.000000</td>\n",
              "    </tr>\n",
              "    <tr>\n",
              "      <th>25%</th>\n",
              "      <td>7.100000</td>\n",
              "      <td>0.390000</td>\n",
              "      <td>0.090000</td>\n",
              "      <td>1.900000</td>\n",
              "      <td>0.070000</td>\n",
              "      <td>7.000000</td>\n",
              "      <td>22.000000</td>\n",
              "      <td>0.995600</td>\n",
              "      <td>3.210000</td>\n",
              "      <td>0.550000</td>\n",
              "      <td>9.500000</td>\n",
              "      <td>5.000000</td>\n",
              "    </tr>\n",
              "    <tr>\n",
              "      <th>50%</th>\n",
              "      <td>7.900000</td>\n",
              "      <td>0.520000</td>\n",
              "      <td>0.260000</td>\n",
              "      <td>2.200000</td>\n",
              "      <td>0.079000</td>\n",
              "      <td>14.000000</td>\n",
              "      <td>38.000000</td>\n",
              "      <td>0.996750</td>\n",
              "      <td>3.310000</td>\n",
              "      <td>0.620000</td>\n",
              "      <td>10.200000</td>\n",
              "      <td>6.000000</td>\n",
              "    </tr>\n",
              "    <tr>\n",
              "      <th>75%</th>\n",
              "      <td>9.200000</td>\n",
              "      <td>0.640000</td>\n",
              "      <td>0.420000</td>\n",
              "      <td>2.600000</td>\n",
              "      <td>0.090000</td>\n",
              "      <td>21.000000</td>\n",
              "      <td>62.000000</td>\n",
              "      <td>0.997835</td>\n",
              "      <td>3.400000</td>\n",
              "      <td>0.730000</td>\n",
              "      <td>11.100000</td>\n",
              "      <td>6.000000</td>\n",
              "    </tr>\n",
              "    <tr>\n",
              "      <th>max</th>\n",
              "      <td>15.900000</td>\n",
              "      <td>1.580000</td>\n",
              "      <td>1.000000</td>\n",
              "      <td>15.500000</td>\n",
              "      <td>0.611000</td>\n",
              "      <td>72.000000</td>\n",
              "      <td>289.000000</td>\n",
              "      <td>1.003690</td>\n",
              "      <td>4.010000</td>\n",
              "      <td>2.000000</td>\n",
              "      <td>14.900000</td>\n",
              "      <td>8.000000</td>\n",
              "    </tr>\n",
              "  </tbody>\n",
              "</table>\n",
              "</div>"
            ],
            "text/plain": [
              "       fixed acidity  volatile acidity  ...      alcohol      quality\n",
              "count    1599.000000       1599.000000  ...  1599.000000  1599.000000\n",
              "mean        8.319637          0.527821  ...    10.422983     5.636023\n",
              "std         1.741096          0.179060  ...     1.065668     0.807569\n",
              "min         4.600000          0.120000  ...     8.400000     3.000000\n",
              "25%         7.100000          0.390000  ...     9.500000     5.000000\n",
              "50%         7.900000          0.520000  ...    10.200000     6.000000\n",
              "75%         9.200000          0.640000  ...    11.100000     6.000000\n",
              "max        15.900000          1.580000  ...    14.900000     8.000000\n",
              "\n",
              "[8 rows x 12 columns]"
            ]
          },
          "metadata": {
            "tags": []
          },
          "execution_count": 13
        }
      ]
    },
    {
      "cell_type": "code",
      "metadata": {
        "colab": {
          "base_uri": "https://localhost:8080/",
          "height": 192
        },
        "id": "nfABSdz8FgHn",
        "outputId": "7dbb6e1f-e570-462b-acb4-d6259e7de383"
      },
      "source": [
        "red.isnull().describe()"
      ],
      "execution_count": 14,
      "outputs": [
        {
          "output_type": "execute_result",
          "data": {
            "text/html": [
              "<div>\n",
              "<style scoped>\n",
              "    .dataframe tbody tr th:only-of-type {\n",
              "        vertical-align: middle;\n",
              "    }\n",
              "\n",
              "    .dataframe tbody tr th {\n",
              "        vertical-align: top;\n",
              "    }\n",
              "\n",
              "    .dataframe thead th {\n",
              "        text-align: right;\n",
              "    }\n",
              "</style>\n",
              "<table border=\"1\" class=\"dataframe\">\n",
              "  <thead>\n",
              "    <tr style=\"text-align: right;\">\n",
              "      <th></th>\n",
              "      <th>fixed acidity</th>\n",
              "      <th>volatile acidity</th>\n",
              "      <th>citric acid</th>\n",
              "      <th>residual sugar</th>\n",
              "      <th>chlorides</th>\n",
              "      <th>free sulfur dioxide</th>\n",
              "      <th>total sulfur dioxide</th>\n",
              "      <th>density</th>\n",
              "      <th>pH</th>\n",
              "      <th>sulphates</th>\n",
              "      <th>alcohol</th>\n",
              "      <th>quality</th>\n",
              "    </tr>\n",
              "  </thead>\n",
              "  <tbody>\n",
              "    <tr>\n",
              "      <th>count</th>\n",
              "      <td>1599</td>\n",
              "      <td>1599</td>\n",
              "      <td>1599</td>\n",
              "      <td>1599</td>\n",
              "      <td>1599</td>\n",
              "      <td>1599</td>\n",
              "      <td>1599</td>\n",
              "      <td>1599</td>\n",
              "      <td>1599</td>\n",
              "      <td>1599</td>\n",
              "      <td>1599</td>\n",
              "      <td>1599</td>\n",
              "    </tr>\n",
              "    <tr>\n",
              "      <th>unique</th>\n",
              "      <td>1</td>\n",
              "      <td>1</td>\n",
              "      <td>1</td>\n",
              "      <td>1</td>\n",
              "      <td>1</td>\n",
              "      <td>1</td>\n",
              "      <td>1</td>\n",
              "      <td>1</td>\n",
              "      <td>1</td>\n",
              "      <td>1</td>\n",
              "      <td>1</td>\n",
              "      <td>1</td>\n",
              "    </tr>\n",
              "    <tr>\n",
              "      <th>top</th>\n",
              "      <td>False</td>\n",
              "      <td>False</td>\n",
              "      <td>False</td>\n",
              "      <td>False</td>\n",
              "      <td>False</td>\n",
              "      <td>False</td>\n",
              "      <td>False</td>\n",
              "      <td>False</td>\n",
              "      <td>False</td>\n",
              "      <td>False</td>\n",
              "      <td>False</td>\n",
              "      <td>False</td>\n",
              "    </tr>\n",
              "    <tr>\n",
              "      <th>freq</th>\n",
              "      <td>1599</td>\n",
              "      <td>1599</td>\n",
              "      <td>1599</td>\n",
              "      <td>1599</td>\n",
              "      <td>1599</td>\n",
              "      <td>1599</td>\n",
              "      <td>1599</td>\n",
              "      <td>1599</td>\n",
              "      <td>1599</td>\n",
              "      <td>1599</td>\n",
              "      <td>1599</td>\n",
              "      <td>1599</td>\n",
              "    </tr>\n",
              "  </tbody>\n",
              "</table>\n",
              "</div>"
            ],
            "text/plain": [
              "       fixed acidity volatile acidity citric acid  ... sulphates alcohol quality\n",
              "count           1599             1599        1599  ...      1599    1599    1599\n",
              "unique             1                1           1  ...         1       1       1\n",
              "top            False            False       False  ...     False   False   False\n",
              "freq            1599             1599        1599  ...      1599    1599    1599\n",
              "\n",
              "[4 rows x 12 columns]"
            ]
          },
          "metadata": {
            "tags": []
          },
          "execution_count": 14
        }
      ]
    },
    {
      "cell_type": "markdown",
      "metadata": {
        "id": "Wd6aMgr6Fh_e"
      },
      "source": [
        "From the cell above we can see that there are 3 times more data for white white than for red wine. Also there is not a single line with null values. Now lets try to see if we can find relations between the wine properties or even between the two types of wine."
      ]
    },
    {
      "cell_type": "code",
      "metadata": {
        "colab": {
          "base_uri": "https://localhost:8080/",
          "height": 325
        },
        "id": "v1tDcj1SGxyg",
        "outputId": "d979d560-1089-42f1-9813-5d9acd7326f3"
      },
      "source": [
        "# Distribution of Alcohol percentage for red/white wine\n",
        "\n",
        "fig, axs = plt.subplots(1, 2)\n",
        "\n",
        "hist_cfg = dict(alpha=0.5, histtype='stepfilled', ec=\"k\", bins=40, density=True)\n",
        "\n",
        "axs[0].hist(red[\"alcohol\"], facecolor=\"red\", **hist_cfg)\n",
        "axs[1].hist(white[\"alcohol\"], facecolor=\"w\", **hist_cfg)\n",
        "\n",
        "axs[0].set_title(\"Red Wine\")\n",
        "axs[1].set_title(\"White Wine\")\n",
        "fig.suptitle(\"Alcohol percentage distibution\")\n",
        "axs[0].set_ylabel(\"Frequency\")\n",
        "axs[0].set_xlabel(\"Alcohol percentage\")\n",
        "axs[1].set_xlabel(\"Alcohol percentage\")"
      ],
      "execution_count": 15,
      "outputs": [
        {
          "output_type": "execute_result",
          "data": {
            "text/plain": [
              "Text(0.5, 0, 'Alcohol percentage')"
            ]
          },
          "metadata": {
            "tags": []
          },
          "execution_count": 15
        },
        {
          "output_type": "display_data",
          "data": {
            "image/png": "[encoded data removed]",
            "text/plain": [
              "<Figure size 432x288 with 2 Axes>"
            ]
          },
          "metadata": {
            "tags": [],
            "needs_background": "light"
          }
        }
      ]
    },
    {
      "cell_type": "code",
      "metadata": {
        "colab": {
          "base_uri": "https://localhost:8080/",
          "height": 325
        },
        "id": "BAmRTGAYHOm1",
        "outputId": "eb2401f8-810e-46de-d93f-fce321f9bf3b"
      },
      "source": [
        "# Relation between sulfates and quality\n",
        "\n",
        "fig, axs = plt.subplots(1, 2)\n",
        "\n",
        "axs[0].scatter(red[\"quality\"], red[\"sulphates\"], c=\"red\")\n",
        "axs[1].scatter(white[\"quality\"], white[\"sulphates\"], c=\"k\")\n",
        "\n",
        "axs[0].set_title(\"Red Wine\")\n",
        "axs[1].set_title(\"White Wine\")\n",
        "fig.suptitle(\"Quality x Sulphates\")\n",
        "axs[0].set_ylabel(\"Sulphates\")\n",
        "axs[0].set_xlabel(\"Quality\")\n",
        "axs[1].set_xlabel(\"Quality\")\n",
        "plt.xlim(2, 10)\n",
        "plt.ylim(0.18, 2.25)"
      ],
      "execution_count": 16,
      "outputs": [
        {
          "output_type": "execute_result",
          "data": {
            "text/plain": [
              "(0.18, 2.25)"
            ]
          },
          "metadata": {
            "tags": []
          },
          "execution_count": 16
        },
        {
          "output_type": "display_data",
          "data": {
            "image/png": "[encoded data removed]",
            "text/plain": [
              "<Figure size 432x288 with 2 Axes>"
            ]
          },
          "metadata": {
            "tags": [],
            "needs_background": "light"
          }
        }
      ]
    },
    {
      "cell_type": "code",
      "metadata": {
        "colab": {
          "base_uri": "https://localhost:8080/",
          "height": 325
        },
        "id": "2HLcH7XJJ4X8",
        "outputId": "b4665633-83fc-4cbd-cb44-985a4b868962"
      },
      "source": [
        "# Distribution of residual sugar for red/white wine\n",
        "\n",
        "fig, axs = plt.subplots(1, 2)\n",
        "\n",
        "hist_cfg = dict(alpha=0.5, histtype='stepfilled', ec=\"k\", bins=40, density=True)\n",
        "\n",
        "axs[0].hist(red[\"residual sugar\"], facecolor=\"red\", **hist_cfg)\n",
        "axs[1].hist(white[\"residual sugar\"], facecolor=\"w\", **hist_cfg)\n",
        "\n",
        "axs[0].set_title(\"Red Wine\")\n",
        "axs[1].set_title(\"White Wine\")\n",
        "fig.suptitle(\"Residual Sugar distibution\")\n",
        "axs[0].set_ylabel(\"Frequency\")\n",
        "axs[0].set_xlabel(\"Residual Sugar (g/dm3)\")\n",
        "axs[1].set_xlabel(\"Residual Sugar (g/dm3)\")"
      ],
      "execution_count": 17,
      "outputs": [
        {
          "output_type": "execute_result",
          "data": {
            "text/plain": [
              "Text(0.5, 0, 'Residual Sugar (g/dm3)')"
            ]
          },
          "metadata": {
            "tags": []
          },
          "execution_count": 17
        },
        {
          "output_type": "display_data",
          "data": {
            "image/png": "[encoded data removed]",
            "text/plain": [
              "<Figure size 432x288 with 2 Axes>"
            ]
          },
          "metadata": {
            "tags": [],
            "needs_background": "light"
          }
        }
      ]
    },
    {
      "cell_type": "code",
      "metadata": {
        "colab": {
          "base_uri": "https://localhost:8080/",
          "height": 441
        },
        "id": "A2Q5qYn6KqBN",
        "outputId": "ea9ec55c-96a8-4f63-8260-c570a60c0783"
      },
      "source": [
        "# Merging red and white wines in a single DataFrame\n",
        "red[\"type\"] = 1\n",
        "white[\"type\"] = 0\n",
        "wine = red.append(white, ignore_index=True)\n",
        "wine"
      ],
      "execution_count": 18,
      "outputs": [
        {
          "output_type": "execute_result",
          "data": {
            "text/html": [
              "<div>\n",
              "<style scoped>\n",
              "    .dataframe tbody tr th:only-of-type {\n",
              "        vertical-align: middle;\n",
              "    }\n",
              "\n",
              "    .dataframe tbody tr th {\n",
              "        vertical-align: top;\n",
              "    }\n",
              "\n",
              "    .dataframe thead th {\n",
              "        text-align: right;\n",
              "    }\n",
              "</style>\n",
              "<table border=\"1\" class=\"dataframe\">\n",
              "  <thead>\n",
              "    <tr style=\"text-align: right;\">\n",
              "      <th></th>\n",
              "      <th>fixed acidity</th>\n",
              "      <th>volatile acidity</th>\n",
              "      <th>citric acid</th>\n",
              "      <th>residual sugar</th>\n",
              "      <th>chlorides</th>\n",
              "      <th>free sulfur dioxide</th>\n",
              "      <th>total sulfur dioxide</th>\n",
              "      <th>density</th>\n",
              "      <th>pH</th>\n",
              "      <th>sulphates</th>\n",
              "      <th>alcohol</th>\n",
              "      <th>quality</th>\n",
              "      <th>type</th>\n",
              "    </tr>\n",
              "  </thead>\n",
              "  <tbody>\n",
              "    <tr>\n",
              "      <th>0</th>\n",
              "      <td>7.4</td>\n",
              "      <td>0.70</td>\n",
              "      <td>0.00</td>\n",
              "      <td>1.9</td>\n",
              "      <td>0.076</td>\n",
              "      <td>11.0</td>\n",
              "      <td>34.0</td>\n",
              "      <td>0.99780</td>\n",
              "      <td>3.51</td>\n",
              "      <td>0.56</td>\n",
              "      <td>9.4</td>\n",
              "      <td>5</td>\n",
              "      <td>1</td>\n",
              "    </tr>\n",
              "    <tr>\n",
              "      <th>1</th>\n",
              "      <td>7.8</td>\n",
              "      <td>0.88</td>\n",
              "      <td>0.00</td>\n",
              "      <td>2.6</td>\n",
              "      <td>0.098</td>\n",
              "      <td>25.0</td>\n",
              "      <td>67.0</td>\n",
              "      <td>0.99680</td>\n",
              "      <td>3.20</td>\n",
              "      <td>0.68</td>\n",
              "      <td>9.8</td>\n",
              "      <td>5</td>\n",
              "      <td>1</td>\n",
              "    </tr>\n",
              "    <tr>\n",
              "      <th>2</th>\n",
              "      <td>7.8</td>\n",
              "      <td>0.76</td>\n",
              "      <td>0.04</td>\n",
              "      <td>2.3</td>\n",
              "      <td>0.092</td>\n",
              "      <td>15.0</td>\n",
              "      <td>54.0</td>\n",
              "      <td>0.99700</td>\n",
              "      <td>3.26</td>\n",
              "      <td>0.65</td>\n",
              "      <td>9.8</td>\n",
              "      <td>5</td>\n",
              "      <td>1</td>\n",
              "    </tr>\n",
              "    <tr>\n",
              "      <th>3</th>\n",
              "      <td>11.2</td>\n",
              "      <td>0.28</td>\n",
              "      <td>0.56</td>\n",
              "      <td>1.9</td>\n",
              "      <td>0.075</td>\n",
              "      <td>17.0</td>\n",
              "      <td>60.0</td>\n",
              "      <td>0.99800</td>\n",
              "      <td>3.16</td>\n",
              "      <td>0.58</td>\n",
              "      <td>9.8</td>\n",
              "      <td>6</td>\n",
              "      <td>1</td>\n",
              "    </tr>\n",
              "    <tr>\n",
              "      <th>4</th>\n",
              "      <td>7.4</td>\n",
              "      <td>0.70</td>\n",
              "      <td>0.00</td>\n",
              "      <td>1.9</td>\n",
              "      <td>0.076</td>\n",
              "      <td>11.0</td>\n",
              "      <td>34.0</td>\n",
              "      <td>0.99780</td>\n",
              "      <td>3.51</td>\n",
              "      <td>0.56</td>\n",
              "      <td>9.4</td>\n",
              "      <td>5</td>\n",
              "      <td>1</td>\n",
              "    </tr>\n",
              "    <tr>\n",
              "      <th>...</th>\n",
              "      <td>...</td>\n",
              "      <td>...</td>\n",
              "      <td>...</td>\n",
              "      <td>...</td>\n",
              "      <td>...</td>\n",
              "      <td>...</td>\n",
              "      <td>...</td>\n",
              "      <td>...</td>\n",
              "      <td>...</td>\n",
              "      <td>...</td>\n",
              "      <td>...</td>\n",
              "      <td>...</td>\n",
              "      <td>...</td>\n",
              "    </tr>\n",
              "    <tr>\n",
              "      <th>6492</th>\n",
              "      <td>6.2</td>\n",
              "      <td>0.21</td>\n",
              "      <td>0.29</td>\n",
              "      <td>1.6</td>\n",
              "      <td>0.039</td>\n",
              "      <td>24.0</td>\n",
              "      <td>92.0</td>\n",
              "      <td>0.99114</td>\n",
              "      <td>3.27</td>\n",
              "      <td>0.50</td>\n",
              "      <td>11.2</td>\n",
              "      <td>6</td>\n",
              "      <td>0</td>\n",
              "    </tr>\n",
              "    <tr>\n",
              "      <th>6493</th>\n",
              "      <td>6.6</td>\n",
              "      <td>0.32</td>\n",
              "      <td>0.36</td>\n",
              "      <td>8.0</td>\n",
              "      <td>0.047</td>\n",
              "      <td>57.0</td>\n",
              "      <td>168.0</td>\n",
              "      <td>0.99490</td>\n",
              "      <td>3.15</td>\n",
              "      <td>0.46</td>\n",
              "      <td>9.6</td>\n",
              "      <td>5</td>\n",
              "      <td>0</td>\n",
              "    </tr>\n",
              "    <tr>\n",
              "      <th>6494</th>\n",
              "      <td>6.5</td>\n",
              "      <td>0.24</td>\n",
              "      <td>0.19</td>\n",
              "      <td>1.2</td>\n",
              "      <td>0.041</td>\n",
              "      <td>30.0</td>\n",
              "      <td>111.0</td>\n",
              "      <td>0.99254</td>\n",
              "      <td>2.99</td>\n",
              "      <td>0.46</td>\n",
              "      <td>9.4</td>\n",
              "      <td>6</td>\n",
              "      <td>0</td>\n",
              "    </tr>\n",
              "    <tr>\n",
              "      <th>6495</th>\n",
              "      <td>5.5</td>\n",
              "      <td>0.29</td>\n",
              "      <td>0.30</td>\n",
              "      <td>1.1</td>\n",
              "      <td>0.022</td>\n",
              "      <td>20.0</td>\n",
              "      <td>110.0</td>\n",
              "      <td>0.98869</td>\n",
              "      <td>3.34</td>\n",
              "      <td>0.38</td>\n",
              "      <td>12.8</td>\n",
              "      <td>7</td>\n",
              "      <td>0</td>\n",
              "    </tr>\n",
              "    <tr>\n",
              "      <th>6496</th>\n",
              "      <td>6.0</td>\n",
              "      <td>0.21</td>\n",
              "      <td>0.38</td>\n",
              "      <td>0.8</td>\n",
              "      <td>0.020</td>\n",
              "      <td>22.0</td>\n",
              "      <td>98.0</td>\n",
              "      <td>0.98941</td>\n",
              "      <td>3.26</td>\n",
              "      <td>0.32</td>\n",
              "      <td>11.8</td>\n",
              "      <td>6</td>\n",
              "      <td>0</td>\n",
              "    </tr>\n",
              "  </tbody>\n",
              "</table>\n",
              "<p>6497 rows × 13 columns</p>\n",
              "</div>"
            ],
            "text/plain": [
              "      fixed acidity  volatile acidity  citric acid  ...  alcohol  quality  type\n",
              "0               7.4              0.70         0.00  ...      9.4        5     1\n",
              "1               7.8              0.88         0.00  ...      9.8        5     1\n",
              "2               7.8              0.76         0.04  ...      9.8        5     1\n",
              "3              11.2              0.28         0.56  ...      9.8        6     1\n",
              "4               7.4              0.70         0.00  ...      9.4        5     1\n",
              "...             ...               ...          ...  ...      ...      ...   ...\n",
              "6492            6.2              0.21         0.29  ...     11.2        6     0\n",
              "6493            6.6              0.32         0.36  ...      9.6        5     0\n",
              "6494            6.5              0.24         0.19  ...      9.4        6     0\n",
              "6495            5.5              0.29         0.30  ...     12.8        7     0\n",
              "6496            6.0              0.21         0.38  ...     11.8        6     0\n",
              "\n",
              "[6497 rows x 13 columns]"
            ]
          },
          "metadata": {
            "tags": []
          },
          "execution_count": 18
        }
      ]
    },
    {
      "cell_type": "code",
      "metadata": {
        "colab": {
          "base_uri": "https://localhost:8080/",
          "height": 370
        },
        "id": "KgRLjZ7QaLQG",
        "outputId": "ed7ca3db-e280-445d-fade-40f03a1fe2b3"
      },
      "source": [
        "# Correlation matrix\n",
        "\n",
        "corr = wine.corr()\n",
        "sns.heatmap(corr,\n",
        "            xticklabels=corr.columns.values,\n",
        "            yticklabels=corr.columns.values,\n",
        "            cmap=\"Blues\",\n",
        "            vmin=-1, vmax=1)"
      ],
      "execution_count": 19,
      "outputs": [
        {
          "output_type": "execute_result",
          "data": {
            "text/plain": [
              "<matplotlib.axes._subplots.AxesSubplot at 0x7f30e297c910>"
            ]
          },
          "metadata": {
            "tags": []
          },
          "execution_count": 19
        },
        {
          "output_type": "display_data",
          "data": {
            "image/png": "[encoded data removed]",
            "text/plain": [
              "<Figure size 432x288 with 2 Axes>"
            ]
          },
          "metadata": {
            "tags": [],
            "needs_background": "light"
          }
        }
      ]
    },
    {
      "cell_type": "code",
      "metadata": {
        "id": "qJV8WkFgcKEM"
      },
      "source": [
        "# Data split and preprocessing\n",
        "\n",
        "X = wine.iloc[:, 0:11]\n",
        "Y = np.ravel(wine[\"type\"])\n",
        "\n",
        "X_train, X_test, Y_train, Y_test = train_test_split(X, Y, test_size=0.33, random_state=42)\n",
        "\n",
        "scaler = StandardScaler().fit(X_train)\n",
        "X_train = scaler.transform(X_train)\n",
        "X_test = scaler.transform(X_test)"
      ],
      "execution_count": 20,
      "outputs": []
    },
    {
      "cell_type": "code",
      "metadata": {
        "id": "qxNbgqne1gBy"
      },
      "source": [
        "# Model consists of an input layer, one hidden layer and the output layer that\n",
        "# uses the sigmoid activation function to output probabilities\n",
        "\n",
        "model = Sequential()\n",
        "model.add(Dense(12, activation='relu', input_shape=(11,)))\n",
        "model.add(Dense(8, activation='relu'))\n",
        "model.add(Dense(1, activation='sigmoid'))"
      ],
      "execution_count": 21,
      "outputs": []
    },
    {
      "cell_type": "code",
      "metadata": {
        "colab": {
          "base_uri": "https://localhost:8080/"
        },
        "id": "1H0Wqph0m02r",
        "outputId": "8744eb16-b000-42e0-e809-18375e37eed6"
      },
      "source": [
        "model.output_shape"
      ],
      "execution_count": 22,
      "outputs": [
        {
          "output_type": "execute_result",
          "data": {
            "text/plain": [
              "(None, 1)"
            ]
          },
          "metadata": {
            "tags": []
          },
          "execution_count": 22
        }
      ]
    },
    {
      "cell_type": "code",
      "metadata": {
        "colab": {
          "base_uri": "https://localhost:8080/"
        },
        "id": "V9M7N5DcnTGm",
        "outputId": "ce6045b6-73e2-4397-9b2f-7506418a5012"
      },
      "source": [
        "model.summary()"
      ],
      "execution_count": 23,
      "outputs": [
        {
          "output_type": "stream",
          "text": [
            "Model: \"sequential\"\n",
            "_________________________________________________________________\n",
            "Layer (type)                 Output Shape              Param #   \n",
            "=================================================================\n",
            "dense (Dense)                (None, 12)                144       \n",
            "_________________________________________________________________\n",
            "dense_1 (Dense)              (None, 8)                 104       \n",
            "_________________________________________________________________\n",
            "dense_2 (Dense)              (None, 1)                 9         \n",
            "=================================================================\n",
            "Total params: 257\n",
            "Trainable params: 257\n",
            "Non-trainable params: 0\n",
            "_________________________________________________________________\n"
          ],
          "name": "stdout"
        }
      ]
    },
    {
      "cell_type": "code",
      "metadata": {
        "colab": {
          "base_uri": "https://localhost:8080/"
        },
        "id": "aaSDdK8anU_4",
        "outputId": "33c8dc37-a69a-40ed-b001-be7746fcefa6"
      },
      "source": [
        "model.get_config()"
      ],
      "execution_count": 24,
      "outputs": [
        {
          "output_type": "execute_result",
          "data": {
            "text/plain": [
              "{'layers': [{'class_name': 'InputLayer',\n",
              "   'config': {'batch_input_shape': (None, 11),\n",
              "    'dtype': 'float32',\n",
              "    'name': 'dense_input',\n",
              "    'ragged': False,\n",
              "    'sparse': False}},\n",
              "  {'class_name': 'Dense',\n",
              "   'config': {'activation': 'relu',\n",
              "    'activity_regularizer': None,\n",
              "    'batch_input_shape': (None, 11),\n",
              "    'bias_constraint': None,\n",
              "    'bias_initializer': {'class_name': 'Zeros', 'config': {}},\n",
              "    'bias_regularizer': None,\n",
              "    'dtype': 'float32',\n",
              "    'kernel_constraint': None,\n",
              "    'kernel_initializer': {'class_name': 'GlorotUniform',\n",
              "     'config': {'seed': None}},\n",
              "    'kernel_regularizer': None,\n",
              "    'name': 'dense',\n",
              "    'trainable': True,\n",
              "    'units': 12,\n",
              "    'use_bias': True}},\n",
              "  {'class_name': 'Dense',\n",
              "   'config': {'activation': 'relu',\n",
              "    'activity_regularizer': None,\n",
              "    'bias_constraint': None,\n",
              "    'bias_initializer': {'class_name': 'Zeros', 'config': {}},\n",
              "    'bias_regularizer': None,\n",
              "    'dtype': 'float32',\n",
              "    'kernel_constraint': None,\n",
              "    'kernel_initializer': {'class_name': 'GlorotUniform',\n",
              "     'config': {'seed': None}},\n",
              "    'kernel_regularizer': None,\n",
              "    'name': 'dense_1',\n",
              "    'trainable': True,\n",
              "    'units': 8,\n",
              "    'use_bias': True}},\n",
              "  {'class_name': 'Dense',\n",
              "   'config': {'activation': 'sigmoid',\n",
              "    'activity_regularizer': None,\n",
              "    'bias_constraint': None,\n",
              "    'bias_initializer': {'class_name': 'Zeros', 'config': {}},\n",
              "    'bias_regularizer': None,\n",
              "    'dtype': 'float32',\n",
              "    'kernel_constraint': None,\n",
              "    'kernel_initializer': {'class_name': 'GlorotUniform',\n",
              "     'config': {'seed': None}},\n",
              "    'kernel_regularizer': None,\n",
              "    'name': 'dense_2',\n",
              "    'trainable': True,\n",
              "    'units': 1,\n",
              "    'use_bias': True}}],\n",
              " 'name': 'sequential'}"
            ]
          },
          "metadata": {
            "tags": []
          },
          "execution_count": 24
        }
      ]
    },
    {
      "cell_type": "code",
      "metadata": {
        "colab": {
          "base_uri": "https://localhost:8080/"
        },
        "id": "HOuPfOCJnoGz",
        "outputId": "f9f54410-5ea3-4a72-f234-fccc4a9c6ca8"
      },
      "source": [
        "model.get_weights()"
      ],
      "execution_count": 26,
      "outputs": [
        {
          "output_type": "execute_result",
          "data": {
            "text/plain": [
              "[array([[ 0.10422838,  0.41459352, -0.3625184 , -0.17764959,  0.11354929,\n",
              "          0.3719613 , -0.43128204, -0.16774553, -0.41486737,  0.02111655,\n",
              "          0.26608545, -0.00422674],\n",
              "        [ 0.04308689,  0.11477381,  0.2993511 , -0.01170301, -0.0491249 ,\n",
              "          0.3772034 ,  0.01720583, -0.04151103,  0.4381436 , -0.23387656,\n",
              "         -0.07515684, -0.41164207],\n",
              "        [ 0.33407485,  0.11371231, -0.00850087,  0.32354134, -0.1324318 ,\n",
              "         -0.37816626,  0.39582425, -0.2352907 ,  0.37747973, -0.18342787,\n",
              "         -0.44052696,  0.24433482],\n",
              "        [-0.05492449, -0.01609245, -0.3779523 ,  0.075203  , -0.0497351 ,\n",
              "         -0.20209813,  0.18093371,  0.47014403,  0.24935043,  0.40375835,\n",
              "         -0.26047742, -0.12415585],\n",
              "        [ 0.11994004,  0.31118894, -0.49397603,  0.40831268,  0.10040897,\n",
              "         -0.37674528, -0.4223311 ,  0.12543094,  0.4907189 ,  0.49762553,\n",
              "         -0.01372689,  0.15867782],\n",
              "        [ 0.25149363, -0.28567111,  0.32842505,  0.4741546 ,  0.02073652,\n",
              "          0.18367821,  0.11248326, -0.20312625,  0.03656387, -0.07471007,\n",
              "         -0.05633837,  0.3603723 ],\n",
              "        [-0.44469073,  0.07750571, -0.30423117, -0.2937308 , -0.23403108,\n",
              "         -0.1436952 ,  0.35939944,  0.14014465, -0.4250497 ,  0.15434891,\n",
              "          0.42674124, -0.3700446 ],\n",
              "        [ 0.43413156, -0.33765   ,  0.1781547 ,  0.1408416 , -0.32069612,\n",
              "          0.14196277, -0.40191996, -0.4305145 , -0.19386822,  0.02656496,\n",
              "         -0.3252665 ,  0.46941215],\n",
              "        [-0.09752086, -0.49278593, -0.16894123, -0.05960885, -0.37662145,\n",
              "          0.4311056 ,  0.47924912,  0.14732152,  0.18015742, -0.42196053,\n",
              "          0.3148561 ,  0.48169982],\n",
              "        [-0.08341649, -0.4763127 , -0.29438728,  0.42003566, -0.16876212,\n",
              "          0.0013842 , -0.4455948 ,  0.48562187, -0.36001998, -0.5081569 ,\n",
              "         -0.08413935, -0.17482007],\n",
              "        [ 0.1403994 , -0.3776015 , -0.32225347, -0.32406366, -0.25928125,\n",
              "          0.42907298,  0.03037387, -0.4958479 ,  0.23420411, -0.10037622,\n",
              "         -0.13324681,  0.15909111]], dtype=float32),\n",
              " array([0., 0., 0., 0., 0., 0., 0., 0., 0., 0., 0., 0.], dtype=float32),\n",
              " array([[-0.3988881 , -0.05511552,  0.05652899,  0.08258587,  0.507745  ,\n",
              "          0.16060805,  0.47936058,  0.22538602],\n",
              "        [-0.04457611,  0.36219484,  0.30906105,  0.14100587,  0.09565592,\n",
              "         -0.00416666,  0.2517559 , -0.49290806],\n",
              "        [-0.06493449,  0.19846296, -0.42987818, -0.5012445 , -0.12207177,\n",
              "         -0.41986293, -0.47990668,  0.3467778 ],\n",
              "        [-0.12657991, -0.06670082, -0.3084165 ,  0.27977598,  0.17132264,\n",
              "         -0.188633  ,  0.14818597, -0.05229354],\n",
              "        [ 0.27066177, -0.5178207 ,  0.4152755 , -0.18305981, -0.0373072 ,\n",
              "         -0.00726193, -0.1999301 , -0.32896897],\n",
              "        [ 0.3805905 ,  0.08464861, -0.1385968 , -0.33569905,  0.07528657,\n",
              "         -0.02935731, -0.15448365, -0.09486392],\n",
              "        [-0.38925105, -0.24770492, -0.01494086, -0.46523702, -0.39711946,\n",
              "          0.3380854 , -0.16896123,  0.00803584],\n",
              "        [ 0.18422109,  0.54504037,  0.29592764, -0.19967899,  0.07136512,\n",
              "         -0.15350765, -0.4820249 ,  0.40821922],\n",
              "        [-0.42960745, -0.3136012 , -0.35948563, -0.52572465, -0.03666657,\n",
              "          0.19665849, -0.50218433,  0.46625626],\n",
              "        [ 0.17476946,  0.1622237 ,  0.4501359 , -0.07223186, -0.40353703,\n",
              "          0.16855615, -0.14617243,  0.33574843],\n",
              "        [ 0.15842742,  0.21906203, -0.07129332, -0.3408976 , -0.08852234,\n",
              "          0.27530074, -0.51215494,  0.22335094],\n",
              "        [ 0.36537367, -0.26411673, -0.5234766 , -0.3235581 , -0.47885844,\n",
              "          0.4469599 ,  0.3834774 ,  0.4625312 ]], dtype=float32),\n",
              " array([0., 0., 0., 0., 0., 0., 0., 0.], dtype=float32),\n",
              " array([[-0.7164451 ],\n",
              "        [-0.19838399],\n",
              "        [ 0.7350079 ],\n",
              "        [-0.17844725],\n",
              "        [-0.18284637],\n",
              "        [-0.58074963],\n",
              "        [-0.3362157 ],\n",
              "        [ 0.30040133]], dtype=float32),\n",
              " array([0.], dtype=float32)]"
            ]
          },
          "metadata": {
            "tags": []
          },
          "execution_count": 26
        }
      ]
    },
    {
      "cell_type": "code",
      "metadata": {
        "colab": {
          "base_uri": "https://localhost:8080/"
        },
        "id": "diOa2Pt_y2ZE",
        "outputId": "90baac1c-947f-4f36-f793-e595d84f2725"
      },
      "source": [
        "model.compile(loss=\"binary_crossentropy\",\n",
        "              optimizer=\"adam\",\n",
        "              metrics=[\"accuracy\"])\n",
        "model.fit(X_train, Y_train, epochs=20, batch_size=1, verbose=True)"
      ],
      "execution_count": 27,
      "outputs": [
        {
          "output_type": "stream",
          "text": [
            "Epoch 1/20\n",
            "4352/4352 [==============================] - 18s 1ms/step - loss: 0.2250 - accuracy: 0.9090\n",
            "Epoch 2/20\n",
            "4352/4352 [==============================] - 5s 1ms/step - loss: 0.0201 - accuracy: 0.9963\n",
            "Epoch 3/20\n",
            "4352/4352 [==============================] - 5s 1ms/step - loss: 0.0189 - accuracy: 0.9969\n",
            "Epoch 4/20\n",
            "4352/4352 [==============================] - 5s 1ms/step - loss: 0.0153 - accuracy: 0.9977\n",
            "Epoch 5/20\n",
            "4352/4352 [==============================] - 5s 1ms/step - loss: 0.0143 - accuracy: 0.9977\n",
            "Epoch 6/20\n",
            "4352/4352 [==============================] - 5s 1ms/step - loss: 0.0193 - accuracy: 0.9957\n",
            "Epoch 7/20\n",
            "4352/4352 [==============================] - 5s 1ms/step - loss: 0.0231 - accuracy: 0.9952\n",
            "Epoch 8/20\n",
            "4352/4352 [==============================] - 5s 1ms/step - loss: 0.0118 - accuracy: 0.9980\n",
            "Epoch 9/20\n",
            "4352/4352 [==============================] - 5s 1ms/step - loss: 0.0077 - accuracy: 0.9984\n",
            "Epoch 10/20\n",
            "4352/4352 [==============================] - 5s 1ms/step - loss: 0.0095 - accuracy: 0.9979\n",
            "Epoch 11/20\n",
            "4352/4352 [==============================] - 5s 1ms/step - loss: 0.0139 - accuracy: 0.9975\n",
            "Epoch 12/20\n",
            "4352/4352 [==============================] - 5s 1ms/step - loss: 0.0205 - accuracy: 0.9958\n",
            "Epoch 13/20\n",
            "4352/4352 [==============================] - 5s 1ms/step - loss: 0.0101 - accuracy: 0.9968\n",
            "Epoch 14/20\n",
            "4352/4352 [==============================] - 5s 1ms/step - loss: 0.0066 - accuracy: 0.9977\n",
            "Epoch 15/20\n",
            "4352/4352 [==============================] - 5s 1ms/step - loss: 0.0091 - accuracy: 0.9983\n",
            "Epoch 16/20\n",
            "4352/4352 [==============================] - 5s 1ms/step - loss: 0.0107 - accuracy: 0.9963\n",
            "Epoch 17/20\n",
            "4352/4352 [==============================] - 5s 1ms/step - loss: 0.0083 - accuracy: 0.9980\n",
            "Epoch 18/20\n",
            "4352/4352 [==============================] - 5s 1ms/step - loss: 0.0155 - accuracy: 0.9972\n",
            "Epoch 19/20\n",
            "4352/4352 [==============================] - 5s 1ms/step - loss: 0.0041 - accuracy: 0.9990\n",
            "Epoch 20/20\n",
            "4352/4352 [==============================] - 5s 1ms/step - loss: 0.0062 - accuracy: 0.9982\n"
          ],
          "name": "stdout"
        },
        {
          "output_type": "execute_result",
          "data": {
            "text/plain": [
              "<keras.callbacks.History at 0x7f30dab55d50>"
            ]
          },
          "metadata": {
            "tags": []
          },
          "execution_count": 27
        }
      ]
    },
    {
      "cell_type": "code",
      "metadata": {
        "colab": {
          "base_uri": "https://localhost:8080/"
        },
        "id": "kdGI5dS7zWk4",
        "outputId": "a36e99e3-3c1c-4243-c5b4-684370315f76"
      },
      "source": [
        "model.weights"
      ],
      "execution_count": 29,
      "outputs": [
        {
          "output_type": "execute_result",
          "data": {
            "text/plain": [
              "[<tf.Variable 'dense/kernel:0' shape=(11, 12) dtype=float32, numpy=\n",
              " array([[-0.06390072, -0.1340014 , -0.03490087, -0.1404373 , -0.22081794,\n",
              "          0.44770157, -0.13997026,  0.33980885, -0.38152745, -0.11618029,\n",
              "          0.38517317,  0.07042929],\n",
              "        [ 0.09853817, -0.41694048,  0.33711526,  0.13468775,  0.26668987,\n",
              "          0.43016392,  0.30337417, -0.04509038,  0.46754846,  0.01028416,\n",
              "         -0.07781053, -0.9370499 ],\n",
              "        [-0.0356659 , -0.09439089, -0.49169225,  0.08972304, -0.0109381 ,\n",
              "          0.09076909,  0.07559213,  0.01923288,  0.16759993, -0.46831515,\n",
              "         -0.1734542 ,  0.3413146 ],\n",
              "        [-0.4035402 ,  0.35525513, -1.0838895 , -0.31644922,  0.28734964,\n",
              "          0.00246721,  0.40119058,  0.3740803 ,  0.10037141,  0.78195983,\n",
              "          0.05256365,  0.19145808],\n",
              "        [ 0.363917  ,  0.9204575 , -0.07789978,  0.87656194,  0.2484885 ,\n",
              "         -1.2170109 , -1.5845109 , -0.48980948,  1.1279385 ,  0.3823618 ,\n",
              "         -0.8131371 ,  0.08440626],\n",
              "        [ 0.2999588 , -0.39420134,  0.43355736,  0.28604898,  0.0237491 ,\n",
              "         -0.23553787, -0.12965009, -0.624764  , -0.05807187,  0.02369544,\n",
              "         -0.41802067,  0.5325485 ],\n",
              "        [-1.1166501 ,  0.02796823, -1.0544872 , -1.2544516 , -0.32832366,\n",
              "         -0.18423826,  0.30431455,  0.09132737, -0.91010374,  0.19500417,\n",
              "          0.29217634,  0.36351055],\n",
              "        [ 0.91449827, -1.0893865 ,  0.9475818 ,  0.4891168 , -1.3789032 ,\n",
              "         -0.2610405 , -0.5098046 , -0.7943296 ,  0.49449316,  0.27110305,\n",
              "         -0.7678455 ,  0.51858145],\n",
              "        [ 0.07175258, -0.4026505 , -0.1382295 , -0.03523784, -0.46381652,\n",
              "          0.4991666 , -0.03615148,  0.06679809,  0.19091545, -0.60424674,\n",
              "          0.39214948,  0.5518264 ],\n",
              "        [ 0.26069397, -0.76177627,  0.29639396,  0.47047663,  0.01188637,\n",
              "          0.12425102, -0.2843374 ,  0.76830745, -0.02265528, -1.0258539 ,\n",
              "          0.01975762,  0.15509826],\n",
              "        [ 0.2906159 , -0.31038737,  0.01819085,  0.08685543, -0.31291687,\n",
              "          0.03782173, -0.6112045 , -0.97003996,  0.5100503 , -0.25677803,\n",
              "         -0.72050637,  0.236114  ]], dtype=float32)>,\n",
              " <tf.Variable 'dense/bias:0' shape=(12,) dtype=float32, numpy=\n",
              " array([-0.00432818, -0.3816743 ,  0.0603997 ,  0.03754194,  0.21616673,\n",
              "         0.52415496,  0.3610137 ,  0.53895366,  0.21824224, -0.05650631,\n",
              "         0.66846836,  0.2673555 ], dtype=float32)>,\n",
              " <tf.Variable 'dense_1/kernel:0' shape=(12, 8) dtype=float32, numpy=\n",
              " array([[-0.35834298, -0.09372745, -1.3919481 ,  0.01579715,  0.75749993,\n",
              "          0.03052241,  0.4930581 ,  0.9578029 ],\n",
              "        [ 0.25764775,  0.56517595,  0.4744191 ,  0.11510309, -0.2502314 ,\n",
              "          0.25193572,  0.50408584, -1.7751242 ],\n",
              "        [-0.32112888, -0.22336417, -3.141335  , -0.5391835 ,  0.517589  ,\n",
              "         -0.69861287, -0.5657514 ,  1.3062328 ],\n",
              "        [ 0.02210312, -0.0153723 , -2.1211188 ,  0.20828529,  0.2966785 ,\n",
              "         -0.13318622,  0.2554205 ,  0.4711528 ],\n",
              "        [ 0.8567149 ,  0.04997398,  0.84401286, -0.1790849 , -0.4644601 ,\n",
              "          0.5983264 ,  0.574839  , -1.3357042 ],\n",
              "        [ 0.57108474,  0.2729131 , -1.2760613 , -0.35572177,  0.32014775,\n",
              "          0.1351316 ,  0.25096244,  0.08681804],\n",
              "        [-0.26114917, -0.10377656, -2.2262828 , -0.46523702, -0.7305747 ,\n",
              "          0.41635925,  0.27087462, -0.71276224],\n",
              "        [ 0.7755198 ,  1.0586381 ,  0.12458418, -0.231445  ,  0.07574251,\n",
              "          0.66252136,  0.38859314,  0.26718804],\n",
              "        [-0.25291374, -0.15098871, -0.12263461, -0.56825143, -0.03183356,\n",
              "          0.2687306 , -0.4503989 ,  0.9405766 ],\n",
              "        [ 0.8152072 ,  0.7827254 ,  0.16055992, -0.06857738, -0.27019936,\n",
              "          0.7923663 ,  0.558439  ,  0.05998443],\n",
              "        [ 0.62115574,  0.6782073 , -2.8451262 , -0.3274113 , -0.2938026 ,\n",
              "          0.7614731 ,  0.44750902, -0.7941294 ],\n",
              "        [ 0.62524617,  0.15003434, -3.155319  , -0.35070485, -0.5326725 ,\n",
              "          0.5678813 ,  0.5378136 ,  0.05258656]], dtype=float32)>,\n",
              " <tf.Variable 'dense_1/bias:0' shape=(8,) dtype=float32, numpy=\n",
              " array([ 0.02776903, -0.02339901,  0.6894021 , -0.05629116,  0.02950215,\n",
              "        -0.07262479, -0.10971291,  0.25986275], dtype=float32)>,\n",
              " <tf.Variable 'dense_2/kernel:0' shape=(8, 1) dtype=float32, numpy=\n",
              " array([[-1.1506166 ],\n",
              "        [-0.42651474],\n",
              "        [ 1.4668218 ],\n",
              "        [-0.12218942],\n",
              "        [ 0.7736579 ],\n",
              "        [-0.8988844 ],\n",
              "        [-0.37083033],\n",
              "        [ 1.1137639 ]], dtype=float32)>,\n",
              " <tf.Variable 'dense_2/bias:0' shape=(1,) dtype=float32, numpy=array([0.392027], dtype=float32)>]"
            ]
          },
          "metadata": {
            "tags": []
          },
          "execution_count": 29
        }
      ]
    },
    {
      "cell_type": "code",
      "metadata": {
        "colab": {
          "base_uri": "https://localhost:8080/"
        },
        "id": "2v97WvL30NUz",
        "outputId": "2c5c6fc8-e4e1-4d3a-ca36-cdcdf7072ba8"
      },
      "source": [
        "Y_pred = model.predict(X_test)\n",
        "Y_pred = np.ravel((Y_pred > 0.70).astype(int))\n",
        "Y_pred"
      ],
      "execution_count": 35,
      "outputs": [
        {
          "output_type": "execute_result",
          "data": {
            "text/plain": [
              "array([0, 1, 0, ..., 0, 0, 0])"
            ]
          },
          "metadata": {
            "tags": []
          },
          "execution_count": 35
        }
      ]
    },
    {
      "cell_type": "code",
      "metadata": {
        "colab": {
          "base_uri": "https://localhost:8080/"
        },
        "id": "57F5QJTyA86H",
        "outputId": "14b55e7e-8215-4cfe-9bcc-e9551e8a55bc"
      },
      "source": [
        "Y_test"
      ],
      "execution_count": 36,
      "outputs": [
        {
          "output_type": "execute_result",
          "data": {
            "text/plain": [
              "array([0, 1, 0, ..., 0, 0, 0])"
            ]
          },
          "metadata": {
            "tags": []
          },
          "execution_count": 36
        }
      ]
    },
    {
      "cell_type": "code",
      "metadata": {
        "colab": {
          "base_uri": "https://localhost:8080/"
        },
        "id": "ycorCRc9B6jS",
        "outputId": "f72a28db-2625-469a-cc59-ae73411fa7a2"
      },
      "source": [
        "score = model.evaluate(X_test, Y_test, verbose=True)\n",
        "score"
      ],
      "execution_count": 38,
      "outputs": [
        {
          "output_type": "stream",
          "text": [
            "68/68 [==============================] - 0s 1ms/step - loss: 0.0203 - accuracy: 0.9953\n"
          ],
          "name": "stdout"
        },
        {
          "output_type": "execute_result",
          "data": {
            "text/plain": [
              "[0.020325100049376488, 0.9953380227088928]"
            ]
          },
          "metadata": {
            "tags": []
          },
          "execution_count": 38
        }
      ]
    },
    {
      "cell_type": "code",
      "metadata": {
        "colab": {
          "base_uri": "https://localhost:8080/"
        },
        "id": "8TLWRvZVCEYJ",
        "outputId": "3b093456-74f0-4d0c-bdc6-2b934667535a"
      },
      "source": [
        "confusion_matrix(Y_test, Y_pred)"
      ],
      "execution_count": 44,
      "outputs": [
        {
          "output_type": "execute_result",
          "data": {
            "text/plain": [
              "array([[1586,    2],\n",
              "       [   9,  548]])"
            ]
          },
          "metadata": {
            "tags": []
          },
          "execution_count": 44
        }
      ]
    },
    {
      "cell_type": "code",
      "metadata": {
        "colab": {
          "base_uri": "https://localhost:8080/"
        },
        "id": "PXoODgFSCnwf",
        "outputId": "5fa02937-de88-4200-a50b-f50ee8f76824"
      },
      "source": [
        "precision_score(Y_test, Y_pred)"
      ],
      "execution_count": 45,
      "outputs": [
        {
          "output_type": "execute_result",
          "data": {
            "text/plain": [
              "0.9963636363636363"
            ]
          },
          "metadata": {
            "tags": []
          },
          "execution_count": 45
        }
      ]
    },
    {
      "cell_type": "code",
      "metadata": {
        "id": "vZ_EwobmT1p-"
      },
      "source": [
        ""
      ],
      "execution_count": null,
      "outputs": []
    }
  ]
}