{
  "nbformat": 4,
  "nbformat_minor": 0,
  "metadata": {
    "colab": {
      "name": "wine_type_logistic.ipynb",
      "provenance": [],
      "collapsed_sections": []
    },
    "kernelspec": {
      "name": "python3",
      "display_name": "Python 3"
    },
    "language_info": {
      "name": "python"
    }
  },
  "cells": [
    {
      "cell_type": "code",
      "metadata": {
        "colab": {
          "base_uri": "https://localhost:8080/"
        },
        "id": "aikZBVn9gCl1",
        "outputId": "e6762dee-9b3a-4ffe-ad88-5d03641c9b4f"
      },
      "source": [
        "from google.colab import drive\n",
        "drive.mount(\"gdrive\")\n",
        "\n",
        "import numpy as np\n",
        "import matplotlib.pyplot as plt\n",
        "import pandas as pd\n",
        "import seaborn as sns\n",
        "import time\n",
        "\n",
        "from sklearn.model_selection import train_test_split, KFold\n",
        "from sklearn.preprocessing import StandardScaler\n",
        "from sklearn.metrics import confusion_matrix, precision_score, recall_score, f1_score, cohen_kappa_score\n",
        "\n",
        "np.random.seed(123)"
      ],
      "execution_count": 166,
      "outputs": [
        {
          "output_type": "stream",
          "text": [
            "Drive already mounted at gdrive; to attempt to forcibly remount, call drive.mount(\"gdrive\", force_remount=True).\n"
          ],
          "name": "stdout"
        }
      ]
    },
    {
      "cell_type": "markdown",
      "metadata": {
        "id": "A64JpU5zgfW0"
      },
      "source": [
        "## Data\n",
        "\n",
        "The data consists of multiple properties for both red and white wines. The goal of this project is to develop a logistic regression model capable of deciding what is the type of a specific wine given its properties (1 for red wine and 0 for white wine). All the functions needed will be written from scratch."
      ]
    },
    {
      "cell_type": "code",
      "metadata": {
        "id": "F4v_tMnMgOo5"
      },
      "source": [
        "white = pd.read_csv(\"gdrive/My Drive/Wine Quality/winequality-white.csv\", delimiter=\";\")\n",
        "red = pd.read_csv(\"gdrive/My Drive/Wine Quality/winequality-red.csv\", delimiter=\";\")"
      ],
      "execution_count": 167,
      "outputs": []
    },
    {
      "cell_type": "code",
      "metadata": {
        "colab": {
          "base_uri": "https://localhost:8080/",
          "height": 224
        },
        "id": "bqGW1f4IgZv6",
        "outputId": "ab4d02aa-0478-4b34-998d-207a0824fc40"
      },
      "source": [
        "white.head()"
      ],
      "execution_count": 168,
      "outputs": [
        {
          "output_type": "execute_result",
          "data": {
            "text/html": [
              "<div>\n",
              "<style scoped>\n",
              "    .dataframe tbody tr th:only-of-type {\n",
              "        vertical-align: middle;\n",
              "    }\n",
              "\n",
              "    .dataframe tbody tr th {\n",
              "        vertical-align: top;\n",
              "    }\n",
              "\n",
              "    .dataframe thead th {\n",
              "        text-align: right;\n",
              "    }\n",
              "</style>\n",
              "<table border=\"1\" class=\"dataframe\">\n",
              "  <thead>\n",
              "    <tr style=\"text-align: right;\">\n",
              "      <th></th>\n",
              "      <th>fixed acidity</th>\n",
              "      <th>volatile acidity</th>\n",
              "      <th>citric acid</th>\n",
              "      <th>residual sugar</th>\n",
              "      <th>chlorides</th>\n",
              "      <th>free sulfur dioxide</th>\n",
              "      <th>total sulfur dioxide</th>\n",
              "      <th>density</th>\n",
              "      <th>pH</th>\n",
              "      <th>sulphates</th>\n",
              "      <th>alcohol</th>\n",
              "      <th>quality</th>\n",
              "    </tr>\n",
              "  </thead>\n",
              "  <tbody>\n",
              "    <tr>\n",
              "      <th>0</th>\n",
              "      <td>7.0</td>\n",
              "      <td>0.27</td>\n",
              "      <td>0.36</td>\n",
              "      <td>20.7</td>\n",
              "      <td>0.045</td>\n",
              "      <td>45.0</td>\n",
              "      <td>170.0</td>\n",
              "      <td>1.0010</td>\n",
              "      <td>3.00</td>\n",
              "      <td>0.45</td>\n",
              "      <td>8.8</td>\n",
              "      <td>6</td>\n",
              "    </tr>\n",
              "    <tr>\n",
              "      <th>1</th>\n",
              "      <td>6.3</td>\n",
              "      <td>0.30</td>\n",
              "      <td>0.34</td>\n",
              "      <td>1.6</td>\n",
              "      <td>0.049</td>\n",
              "      <td>14.0</td>\n",
              "      <td>132.0</td>\n",
              "      <td>0.9940</td>\n",
              "      <td>3.30</td>\n",
              "      <td>0.49</td>\n",
              "      <td>9.5</td>\n",
              "      <td>6</td>\n",
              "    </tr>\n",
              "    <tr>\n",
              "      <th>2</th>\n",
              "      <td>8.1</td>\n",
              "      <td>0.28</td>\n",
              "      <td>0.40</td>\n",
              "      <td>6.9</td>\n",
              "      <td>0.050</td>\n",
              "      <td>30.0</td>\n",
              "      <td>97.0</td>\n",
              "      <td>0.9951</td>\n",
              "      <td>3.26</td>\n",
              "      <td>0.44</td>\n",
              "      <td>10.1</td>\n",
              "      <td>6</td>\n",
              "    </tr>\n",
              "    <tr>\n",
              "      <th>3</th>\n",
              "      <td>7.2</td>\n",
              "      <td>0.23</td>\n",
              "      <td>0.32</td>\n",
              "      <td>8.5</td>\n",
              "      <td>0.058</td>\n",
              "      <td>47.0</td>\n",
              "      <td>186.0</td>\n",
              "      <td>0.9956</td>\n",
              "      <td>3.19</td>\n",
              "      <td>0.40</td>\n",
              "      <td>9.9</td>\n",
              "      <td>6</td>\n",
              "    </tr>\n",
              "    <tr>\n",
              "      <th>4</th>\n",
              "      <td>7.2</td>\n",
              "      <td>0.23</td>\n",
              "      <td>0.32</td>\n",
              "      <td>8.5</td>\n",
              "      <td>0.058</td>\n",
              "      <td>47.0</td>\n",
              "      <td>186.0</td>\n",
              "      <td>0.9956</td>\n",
              "      <td>3.19</td>\n",
              "      <td>0.40</td>\n",
              "      <td>9.9</td>\n",
              "      <td>6</td>\n",
              "    </tr>\n",
              "  </tbody>\n",
              "</table>\n",
              "</div>"
            ],
            "text/plain": [
              "   fixed acidity  volatile acidity  citric acid  ...  sulphates  alcohol  quality\n",
              "0            7.0              0.27         0.36  ...       0.45      8.8        6\n",
              "1            6.3              0.30         0.34  ...       0.49      9.5        6\n",
              "2            8.1              0.28         0.40  ...       0.44     10.1        6\n",
              "3            7.2              0.23         0.32  ...       0.40      9.9        6\n",
              "4            7.2              0.23         0.32  ...       0.40      9.9        6\n",
              "\n",
              "[5 rows x 12 columns]"
            ]
          },
          "metadata": {
            "tags": []
          },
          "execution_count": 168
        }
      ]
    },
    {
      "cell_type": "markdown",
      "metadata": {
        "id": "UCfrdMFwWxfb"
      },
      "source": [
        "Data is imbalanced.\n",
        "\n",
        "*   4898 samples of white wine\n",
        "*   1599 samples of red wine\n",
        "\n",
        "Total is 6497 samples and the ratio of white to red wine is 3.1\n",
        "\n"
      ]
    },
    {
      "cell_type": "code",
      "metadata": {
        "colab": {
          "base_uri": "https://localhost:8080/"
        },
        "id": "G-rX5WGiKlzR",
        "outputId": "41922956-16f3-4841-af05-c8cd0193bebd"
      },
      "source": [
        "white.info()"
      ],
      "execution_count": 169,
      "outputs": [
        {
          "output_type": "stream",
          "text": [
            "<class 'pandas.core.frame.DataFrame'>\n",
            "RangeIndex: 4898 entries, 0 to 4897\n",
            "Data columns (total 12 columns):\n",
            " #   Column                Non-Null Count  Dtype  \n",
            "---  ------                --------------  -----  \n",
            " 0   fixed acidity         4898 non-null   float64\n",
            " 1   volatile acidity      4898 non-null   float64\n",
            " 2   citric acid           4898 non-null   float64\n",
            " 3   residual sugar        4898 non-null   float64\n",
            " 4   chlorides             4898 non-null   float64\n",
            " 5   free sulfur dioxide   4898 non-null   float64\n",
            " 6   total sulfur dioxide  4898 non-null   float64\n",
            " 7   density               4898 non-null   float64\n",
            " 8   pH                    4898 non-null   float64\n",
            " 9   sulphates             4898 non-null   float64\n",
            " 10  alcohol               4898 non-null   float64\n",
            " 11  quality               4898 non-null   int64  \n",
            "dtypes: float64(11), int64(1)\n",
            "memory usage: 459.3 KB\n"
          ],
          "name": "stdout"
        }
      ]
    },
    {
      "cell_type": "code",
      "metadata": {
        "colab": {
          "base_uri": "https://localhost:8080/"
        },
        "id": "lNt7wl_EKmDJ",
        "outputId": "7a230814-df79-4d41-9aed-4dd8acb4dab7"
      },
      "source": [
        "red.info()"
      ],
      "execution_count": 170,
      "outputs": [
        {
          "output_type": "stream",
          "text": [
            "<class 'pandas.core.frame.DataFrame'>\n",
            "RangeIndex: 1599 entries, 0 to 1598\n",
            "Data columns (total 12 columns):\n",
            " #   Column                Non-Null Count  Dtype  \n",
            "---  ------                --------------  -----  \n",
            " 0   fixed acidity         1599 non-null   float64\n",
            " 1   volatile acidity      1599 non-null   float64\n",
            " 2   citric acid           1599 non-null   float64\n",
            " 3   residual sugar        1599 non-null   float64\n",
            " 4   chlorides             1599 non-null   float64\n",
            " 5   free sulfur dioxide   1599 non-null   float64\n",
            " 6   total sulfur dioxide  1599 non-null   float64\n",
            " 7   density               1599 non-null   float64\n",
            " 8   pH                    1599 non-null   float64\n",
            " 9   sulphates             1599 non-null   float64\n",
            " 10  alcohol               1599 non-null   float64\n",
            " 11  quality               1599 non-null   int64  \n",
            "dtypes: float64(11), int64(1)\n",
            "memory usage: 150.0 KB\n"
          ],
          "name": "stdout"
        }
      ]
    },
    {
      "cell_type": "code",
      "metadata": {
        "id": "3ThT1G6H9QNi"
      },
      "source": [
        "# Addin wine type and merging\n",
        "\n",
        "red[\"type\"] = 1\n",
        "white[\"type\"] = 0\n",
        "data = red.append(white, ignore_index=True)"
      ],
      "execution_count": 171,
      "outputs": []
    },
    {
      "cell_type": "code",
      "metadata": {
        "colab": {
          "base_uri": "https://localhost:8080/",
          "height": 370
        },
        "id": "O-3lFZV89iYf",
        "outputId": "3a664779-7c8b-4d7f-c2ca-217d398d7bfb"
      },
      "source": [
        "# Correlation Matrix\n",
        "\n",
        "corr = data.corr()\n",
        "sns.heatmap(corr,\n",
        "            xticklabels=corr.columns.values,\n",
        "            yticklabels=corr.columns.values,\n",
        "            cmap=\"Blues\",\n",
        "            vmin=-1, vmax=1)"
      ],
      "execution_count": 172,
      "outputs": [
        {
          "output_type": "execute_result",
          "data": {
            "text/plain": [
              "<matplotlib.axes._subplots.AxesSubplot at 0x7f9319b4d0d0>"
            ]
          },
          "metadata": {
            "tags": []
          },
          "execution_count": 172
        },
        {
          "output_type": "display_data",
          "data": {
            "image/png": "[encoded data removed]",
            "text/plain": [
              "<Figure size 432x288 with 2 Axes>"
            ]
          },
          "metadata": {
            "tags": [],
            "needs_background": "light"
          }
        }
      ]
    },
    {
      "cell_type": "markdown",
      "metadata": {
        "id": "IMQR9sqHhIF4"
      },
      "source": [
        "## Logistic Regression Theory\n",
        "\n",
        "The sigmoid function will be used as the activation function\n",
        "$$\n",
        "\\sigma(x) = \\dfrac{1}{1 + e^{-x}}\n",
        "$$"
      ]
    },
    {
      "cell_type": "code",
      "metadata": {
        "id": "dwbxcheciCO3"
      },
      "source": [
        "def sigmoid(x):\n",
        "  return 1 / (1 + np.exp(-x))"
      ],
      "execution_count": 173,
      "outputs": []
    },
    {
      "cell_type": "markdown",
      "metadata": {
        "id": "x1OS_HP1iFvL"
      },
      "source": [
        "Weights and biases will be initialized randomly, with values between -1.0 and +1.0"
      ]
    },
    {
      "cell_type": "code",
      "metadata": {
        "id": "TotlDj7UiIu8"
      },
      "source": [
        "def initialize_w_b(dim):\n",
        "  w = np.random.uniform(-1.0, 1.0, dim)\n",
        "  b = np.random.uniform(-1.0, 1.0, 1)[0]\n",
        "  return w, b"
      ],
      "execution_count": 174,
      "outputs": []
    },
    {
      "cell_type": "markdown",
      "metadata": {
        "id": "P3__R2YOjXFv"
      },
      "source": [
        "Forward propagation multiplies the data and the weights and add bias. Note that the dimensions must match.\n",
        "$$\n",
        "Z = X.w + b\n",
        "$$\n",
        "Here, the data `X` is a matrix where each row represents one sample of wine and each column holds a differente property. If we have `m` samples of wine with `n` properties, `X` is a `m x n` matrix and `w` will be of size `m`."
      ]
    },
    {
      "cell_type": "code",
      "metadata": {
        "id": "gty-Fz47jSGe"
      },
      "source": [
        "def forward(w, b, X):\n",
        "  return sigmoid(np.matmul(X, w) + b)"
      ],
      "execution_count": 175,
      "outputs": []
    },
    {
      "cell_type": "markdown",
      "metadata": {
        "id": "pNjFAJHnNsIP"
      },
      "source": [
        "For the loss function we will use the Binary Cross Entropy, which can be derived assuming that\n",
        "\n",
        "$$\n",
        "P(y = 1| X; w, b) = Z = \\sigma(X\\cdot W + b) \\\\\n",
        "P(y = 0 | X; w, b) = 1 - Z \\ \\ .\n",
        "$$\n",
        "This gives\n",
        "$$\n",
        "J(w, b) = -\\dfrac{1}{m}\\sum_{i = 1}^{m}\\left[ y_i\\log(Z_i) + (1-y_i)\\log(1 - Z_i) \\right]\\ \\ ,\n",
        "$$\n",
        "where J(w,b) is the loss function average for all samples, yi is the true value for the prediction and Zi is the prediction for the sample i.\n",
        "\n",
        "The network \"learns\" when we minimize the loss function, making our predictions closer to the real values. For that we will use a simple form of gradient descent."
      ]
    },
    {
      "cell_type": "code",
      "metadata": {
        "id": "wp-2yzbjCCKw"
      },
      "source": [
        "def loss(y, Z):\n",
        "  return -np.mean(y*np.log(Z) + (1 - y)*np.log(1 - Z))"
      ],
      "execution_count": 176,
      "outputs": []
    },
    {
      "cell_type": "markdown",
      "metadata": {
        "id": "Wvt9z_VVQcK8"
      },
      "source": [
        "## Gradient Descent\n",
        "\n",
        "The weights and biases will be updated as follows\n",
        "\n",
        "$$\n",
        "w_{i+1} = w_i - \\eta dw \\\\\n",
        "b_{i+1} = b_i - \\eta db\\ \\ ,\n",
        "$$\n",
        "where\n",
        "$$\n",
        "dw = \\dfrac{\\partial J}{\\partial w} = \\nabla_wJ\\ , \\ db = \\dfrac{\\partial J}{\\partial b} = \\nabla_bJ\\ \\ .\n",
        "$$\n",
        "This gives\n",
        "$$\n",
        "dw = \\dfrac{1}{m} (Z - y)\\cdot X \\\\\n",
        "db = \\dfrac{1}{m} \\sum_{i=0}^{m}(Z_i - y_i) = average(Z - y)\\ \\,\n",
        "$$\n",
        "where dw has the same shape than w and db is a float."
      ]
    },
    {
      "cell_type": "code",
      "metadata": {
        "id": "d1vzt2N-SloZ"
      },
      "source": [
        "def gradients(X, y, Z):\n",
        "  dw = (1/X.shape[0])*np.dot(Z - y, X)\n",
        "  db = np.mean(Z - y)\n",
        "  return dw, db"
      ],
      "execution_count": 177,
      "outputs": []
    },
    {
      "cell_type": "markdown",
      "metadata": {
        "id": "n5KL6wYiThsH"
      },
      "source": [
        "## Training\n",
        "\n",
        "As we have a limited amount of samples (~6k) we will implement k-fold training with k=10. Each training sample will also be divide in batches.\n",
        "\n",
        "Procedure for each batch:\n",
        "1.   Forward propagation\n",
        "2.   Compute gradients\n",
        "3.   Update weights and bias\n",
        "\n",
        "And finally, for each fold, calculate the loss.\n",
        "\n"
      ]
    },
    {
      "cell_type": "code",
      "metadata": {
        "id": "xBWqu9Cxu2RG"
      },
      "source": [
        "def divide(size, n):\n",
        "  \"\"\"\n",
        "  Divides an array of length size in ~n sections. Consecutive values in the\n",
        "  resulting array defines a section.\n",
        "  \"\"\"\n",
        "  for i in range(0, size, size // n):\n",
        "    if size - i < 2 * size // n:\n",
        "      yield (i, size)\n",
        "      break\n",
        "    yield (i, min(i + size // n, size))\n"
      ],
      "execution_count": 178,
      "outputs": []
    },
    {
      "cell_type": "code",
      "metadata": {
        "id": "Wn8XGKzuVCMG"
      },
      "source": [
        "def train(X, Y, k, learning_rate, n_batches):\n",
        "  \"\"\"\n",
        "  X         -> Dataset\n",
        "  Y         -> Target\n",
        "  k         -> n_samples in K-Fold\n",
        "  n_batches -> each training sample generated by k-fold will be divided\n",
        "               in n_batches\n",
        "  \"\"\"\n",
        "  w, b = initialize_w_b(X.shape[1])\n",
        "  losses = []\n",
        "  \n",
        "  kf = KFold(n_splits=k, shuffle=True)\n",
        "\n",
        "  for k, (train, test) in enumerate(kf.split(X)):\n",
        "\n",
        "    t0 = time.perf_counter()\n",
        "\n",
        "    X_train, X_test = X[train], X[test]\n",
        "    Y_train, Y_test = Y[train], Y[test]\n",
        "\n",
        "    for idxa, idxb in divide(X_train.shape[0], n_batches):\n",
        "\n",
        "      Z = forward(w, b, X_train[idxa:idxb])\n",
        "      dw, db = gradients(X_train[idxa:idxb], Y_train[idxa:idxb], Z)\n",
        "      w = w - learning_rate * dw\n",
        "      b = b - learning_rate * db\n",
        "\n",
        "    losses.append(loss(Y_test, forward(w, b, X_test)))\n",
        "\n",
        "    dt = time.perf_counter() - t0\n",
        "    print(f\"k = {k+1}, Loss: {losses[-1]:.5f}, Time: {dt:.4f} s\")\n",
        "    \n",
        "  return w, b, losses\n"
      ],
      "execution_count": 179,
      "outputs": []
    },
    {
      "cell_type": "markdown",
      "metadata": {
        "id": "bjqZEhD6As66"
      },
      "source": [
        "## Prediction and Metrics"
      ]
    },
    {
      "cell_type": "code",
      "metadata": {
        "id": "rWZja0ICy1OR"
      },
      "source": [
        "def predict(X, w, b, threshold=0.5):\n",
        "  Z = forward(w, b, X)\n",
        "  return (Z >= threshold).astype(int)"
      ],
      "execution_count": 180,
      "outputs": []
    },
    {
      "cell_type": "code",
      "metadata": {
        "id": "YvXPIEvVInZR"
      },
      "source": [
        "def predict_single(wine_sample, w, b, threshold=0.5):\n",
        "  Z = forward(w, b, wine_sample)\n",
        "  tp = \"Red\" if Z >= threshold else \"White\"\n",
        "  print(f\"Wine type: {tp}\")"
      ],
      "execution_count": 201,
      "outputs": []
    },
    {
      "cell_type": "code",
      "metadata": {
        "id": "2qZ3ZEdzz9WW"
      },
      "source": [
        "def accuracy(Z_pred, Y):\n",
        "  res = np.equal(Z_pred, Y).astype(int)\n",
        "  return np.sum(res) / res.shape[0]"
      ],
      "execution_count": 192,
      "outputs": []
    },
    {
      "cell_type": "markdown",
      "metadata": {
        "id": "Rl1rV3c00RLh"
      },
      "source": [
        "## Preprocessing and Testing"
      ]
    },
    {
      "cell_type": "code",
      "metadata": {
        "id": "IfayTwOs4S-b"
      },
      "source": [
        "X = data.iloc[:, :11]            # Dataset\n",
        "Y = np.ravel(data.iloc[:, 12])   # Target"
      ],
      "execution_count": 183,
      "outputs": []
    },
    {
      "cell_type": "code",
      "metadata": {
        "id": "BTlTEBN44aiM"
      },
      "source": [
        "# Preprocessing (remove mean and divide by std)\n",
        "\n",
        "scaler = StandardScaler().fit(X)\n",
        "X = scaler.transform(X)"
      ],
      "execution_count": 184,
      "outputs": []
    },
    {
      "cell_type": "code",
      "metadata": {
        "colab": {
          "base_uri": "https://localhost:8080/"
        },
        "id": "zHf9MVe45eEj",
        "outputId": "d1fcbc0f-68ba-48c4-e339-ea1e245d7717"
      },
      "source": [
        "# Training\n",
        "\n",
        "w, b, losses = train(X, Y, 8, 0.09, 20)"
      ],
      "execution_count": 208,
      "outputs": [
        {
          "output_type": "stream",
          "text": [
            "k = 1, Loss: 0.58240, Time: 0.0014 s\n",
            "k = 2, Loss: 0.33552, Time: 0.0017 s\n",
            "k = 3, Loss: 0.24268, Time: 0.0032 s\n",
            "k = 4, Loss: 0.20808, Time: 0.0011 s\n",
            "k = 5, Loss: 0.16557, Time: 0.0011 s\n",
            "k = 6, Loss: 0.14559, Time: 0.0011 s\n",
            "k = 7, Loss: 0.13952, Time: 0.0011 s\n",
            "k = 8, Loss: 0.11178, Time: 0.0011 s\n"
          ],
          "name": "stdout"
        }
      ]
    },
    {
      "cell_type": "code",
      "metadata": {
        "colab": {
          "base_uri": "https://localhost:8080/"
        },
        "id": "1jR2m7bc6keW",
        "outputId": "1106d0c1-7667-4eb8-87e0-c30ff1f2573f"
      },
      "source": [
        "# Predictions and accuracy on the entire dataset\n",
        "\n",
        "pred = predict(X, w, b, threshold=0.5)\n",
        "acc = accuracy(pred, Y)\n",
        "print(f\"Accuracy: {acc*100:.2f}%\")"
      ],
      "execution_count": 186,
      "outputs": [
        {
          "output_type": "stream",
          "text": [
            "Accuracy: 98.32%\n"
          ],
          "name": "stdout"
        }
      ]
    },
    {
      "cell_type": "code",
      "metadata": {
        "colab": {
          "base_uri": "https://localhost:8080/"
        },
        "id": "zNLoHjYw7HnO",
        "outputId": "2fc34158-8484-44f8-8d4e-0a9479c9f462"
      },
      "source": [
        "# Prediction example (Red = 1, White = 0)\n",
        "\n",
        "wine_sample = data.iloc[np.random.randint(data.shape[0]), :]\n",
        "print(wine_sample)\n",
        "print()\n",
        "predict_single(np.ravel(wine_sample)[:11], w, b)"
      ],
      "execution_count": 209,
      "outputs": [
        {
          "output_type": "stream",
          "text": [
            "fixed acidity             6.900\n",
            "volatile acidity          0.280\n",
            "citric acid               0.410\n",
            "residual sugar            1.700\n",
            "chlorides                 0.050\n",
            "free sulfur dioxide      10.000\n",
            "total sulfur dioxide    136.000\n",
            "density                   0.993\n",
            "pH                        3.160\n",
            "sulphates                 0.710\n",
            "alcohol                  11.400\n",
            "quality                   6.000\n",
            "type                      0.000\n",
            "Name: 2976, dtype: float64\n",
            "\n",
            "Wine type: White\n"
          ],
          "name": "stdout"
        }
      ]
    },
    {
      "cell_type": "code",
      "metadata": {
        "colab": {
          "base_uri": "https://localhost:8080/"
        },
        "id": "jETlYe-7KguO",
        "outputId": "2e6ee592-5e0c-4ee0-ec64-a68dc1459d76"
      },
      "source": [
        "confusion_matrix(Y, pred)"
      ],
      "execution_count": 210,
      "outputs": [
        {
          "output_type": "execute_result",
          "data": {
            "text/plain": [
              "array([[4811,   87],\n",
              "       [  22, 1577]])"
            ]
          },
          "metadata": {
            "tags": []
          },
          "execution_count": 210
        }
      ]
    },
    {
      "cell_type": "code",
      "metadata": {
        "colab": {
          "base_uri": "https://localhost:8080/"
        },
        "id": "-NsFlCB2VIi4",
        "outputId": "21d215b7-d832-4f41-ce86-813930ec4bcc"
      },
      "source": [
        "precision_score(Y, pred)"
      ],
      "execution_count": 211,
      "outputs": [
        {
          "output_type": "execute_result",
          "data": {
            "text/plain": [
              "0.9477163461538461"
            ]
          },
          "metadata": {
            "tags": []
          },
          "execution_count": 211
        }
      ]
    },
    {
      "cell_type": "code",
      "metadata": {
        "id": "oxgQpwU1VOKJ"
      },
      "source": [
        ""
      ],
      "execution_count": null,
      "outputs": []
    }
  ]
}